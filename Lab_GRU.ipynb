{
 "cells": [
  {
   "cell_type": "code",
   "execution_count": 202,
   "id": "1f424c70",
   "metadata": {},
   "outputs": [],
   "source": [
    "import settrade_v2\n",
    "from settrade_v2 import Investor\n",
    "from settrade_v2 import market\n",
    "import math\n",
    "import numpy as np\n",
    "import pandas as pd\n",
    "from sklearn.preprocessing import MinMaxScaler \n",
    "import matplotlib.pyplot as plt\n",
    "from matplotlib import pyplot as plt\n",
    "import tensorflow as tf\n",
    "from tensorflow import keras\n",
    "from tensorflow.keras import layers\n",
    "import plotly.graph_objects as go\n",
    "from scipy.signal import argrelextrema\n",
    "from tensorflow.keras import Sequential\n",
    "from tensorflow.keras.layers import LSTM, GRU, Dense, Dropout #\n",
    "from keras.callbacks import ModelCheckpoint\n",
    "from keras import optimizers"
   ]
  },
  {
   "cell_type": "code",
   "execution_count": 203,
   "id": "f76e75bf",
   "metadata": {},
   "outputs": [
    {
     "name": "stderr",
     "output_type": "stream",
     "text": [
      "ERROR:tvDatafeed.main:error while signin\n",
      "WARNING:tvDatafeed.main:you are using nologin method, data you access may be limited\n"
     ]
    }
   ],
   "source": [
    "from tvDatafeed import TvDatafeed, Interval\n",
    "\n",
    "username = 'Nattakidzaa@gmail.com'\n",
    "password = 'holl14583658'\n",
    "\n",
    "tv = TvDatafeed(username, password)"
   ]
  },
  {
   "cell_type": "code",
   "execution_count": 204,
   "id": "76d359b6",
   "metadata": {},
   "outputs": [
    {
     "data": {
      "text/html": [
       "<div>\n",
       "<style scoped>\n",
       "    .dataframe tbody tr th:only-of-type {\n",
       "        vertical-align: middle;\n",
       "    }\n",
       "\n",
       "    .dataframe tbody tr th {\n",
       "        vertical-align: top;\n",
       "    }\n",
       "\n",
       "    .dataframe thead th {\n",
       "        text-align: right;\n",
       "    }\n",
       "</style>\n",
       "<table border=\"1\" class=\"dataframe\">\n",
       "  <thead>\n",
       "    <tr style=\"text-align: right;\">\n",
       "      <th></th>\n",
       "      <th>symbol</th>\n",
       "      <th>open</th>\n",
       "      <th>high</th>\n",
       "      <th>low</th>\n",
       "      <th>close</th>\n",
       "      <th>volume</th>\n",
       "    </tr>\n",
       "    <tr>\n",
       "      <th>datetime</th>\n",
       "      <th></th>\n",
       "      <th></th>\n",
       "      <th></th>\n",
       "      <th></th>\n",
       "      <th></th>\n",
       "      <th></th>\n",
       "    </tr>\n",
       "  </thead>\n",
       "  <tbody>\n",
       "    <tr>\n",
       "      <th>2005-02-17 21:30:00</th>\n",
       "      <td>NASDAQ:NDX</td>\n",
       "      <td>1543.03003</td>\n",
       "      <td>1546.68994</td>\n",
       "      <td>1519.21997</td>\n",
       "      <td>1519.28979</td>\n",
       "      <td>0.0</td>\n",
       "    </tr>\n",
       "    <tr>\n",
       "      <th>2005-02-18 21:30:00</th>\n",
       "      <td>NASDAQ:NDX</td>\n",
       "      <td>1519.20996</td>\n",
       "      <td>1524.04004</td>\n",
       "      <td>1512.72998</td>\n",
       "      <td>1515.39990</td>\n",
       "      <td>0.0</td>\n",
       "    </tr>\n",
       "    <tr>\n",
       "      <th>2005-02-22 21:30:00</th>\n",
       "      <td>NASDAQ:NDX</td>\n",
       "      <td>1502.93994</td>\n",
       "      <td>1523.51001</td>\n",
       "      <td>1493.57983</td>\n",
       "      <td>1494.06982</td>\n",
       "      <td>0.0</td>\n",
       "    </tr>\n",
       "    <tr>\n",
       "      <th>2005-02-23 21:30:00</th>\n",
       "      <td>NASDAQ:NDX</td>\n",
       "      <td>1502.83008</td>\n",
       "      <td>1503.88989</td>\n",
       "      <td>1489.98999</td>\n",
       "      <td>1497.08984</td>\n",
       "      <td>0.0</td>\n",
       "    </tr>\n",
       "    <tr>\n",
       "      <th>2005-02-24 21:30:00</th>\n",
       "      <td>NASDAQ:NDX</td>\n",
       "      <td>1493.59009</td>\n",
       "      <td>1517.87988</td>\n",
       "      <td>1491.73999</td>\n",
       "      <td>1517.70996</td>\n",
       "      <td>0.0</td>\n",
       "    </tr>\n",
       "    <tr>\n",
       "      <th>...</th>\n",
       "      <td>...</td>\n",
       "      <td>...</td>\n",
       "      <td>...</td>\n",
       "      <td>...</td>\n",
       "      <td>...</td>\n",
       "      <td>...</td>\n",
       "    </tr>\n",
       "    <tr>\n",
       "      <th>2023-02-10 21:30:00</th>\n",
       "      <td>NASDAQ:NDX</td>\n",
       "      <td>12306.59280</td>\n",
       "      <td>12375.71720</td>\n",
       "      <td>12204.21450</td>\n",
       "      <td>12304.91700</td>\n",
       "      <td>0.0</td>\n",
       "    </tr>\n",
       "    <tr>\n",
       "      <th>2023-02-13 21:30:00</th>\n",
       "      <td>NASDAQ:NDX</td>\n",
       "      <td>12356.49780</td>\n",
       "      <td>12522.78030</td>\n",
       "      <td>12313.44530</td>\n",
       "      <td>12502.31320</td>\n",
       "      <td>0.0</td>\n",
       "    </tr>\n",
       "    <tr>\n",
       "      <th>2023-02-14 21:30:00</th>\n",
       "      <td>NASDAQ:NDX</td>\n",
       "      <td>12413.09570</td>\n",
       "      <td>12627.39630</td>\n",
       "      <td>12356.32230</td>\n",
       "      <td>12590.88630</td>\n",
       "      <td>0.0</td>\n",
       "    </tr>\n",
       "    <tr>\n",
       "      <th>2023-02-15 21:30:00</th>\n",
       "      <td>NASDAQ:NDX</td>\n",
       "      <td>12531.59960</td>\n",
       "      <td>12689.33840</td>\n",
       "      <td>12486.41680</td>\n",
       "      <td>12687.89360</td>\n",
       "      <td>0.0</td>\n",
       "    </tr>\n",
       "    <tr>\n",
       "      <th>2023-02-16 21:30:00</th>\n",
       "      <td>NASDAQ:NDX</td>\n",
       "      <td>12495.07350</td>\n",
       "      <td>12653.39940</td>\n",
       "      <td>12439.99810</td>\n",
       "      <td>12442.48060</td>\n",
       "      <td>0.0</td>\n",
       "    </tr>\n",
       "  </tbody>\n",
       "</table>\n",
       "<p>4531 rows × 6 columns</p>\n",
       "</div>"
      ],
      "text/plain": [
       "                         symbol         open         high          low  \\\n",
       "datetime                                                                 \n",
       "2005-02-17 21:30:00  NASDAQ:NDX   1543.03003   1546.68994   1519.21997   \n",
       "2005-02-18 21:30:00  NASDAQ:NDX   1519.20996   1524.04004   1512.72998   \n",
       "2005-02-22 21:30:00  NASDAQ:NDX   1502.93994   1523.51001   1493.57983   \n",
       "2005-02-23 21:30:00  NASDAQ:NDX   1502.83008   1503.88989   1489.98999   \n",
       "2005-02-24 21:30:00  NASDAQ:NDX   1493.59009   1517.87988   1491.73999   \n",
       "...                         ...          ...          ...          ...   \n",
       "2023-02-10 21:30:00  NASDAQ:NDX  12306.59280  12375.71720  12204.21450   \n",
       "2023-02-13 21:30:00  NASDAQ:NDX  12356.49780  12522.78030  12313.44530   \n",
       "2023-02-14 21:30:00  NASDAQ:NDX  12413.09570  12627.39630  12356.32230   \n",
       "2023-02-15 21:30:00  NASDAQ:NDX  12531.59960  12689.33840  12486.41680   \n",
       "2023-02-16 21:30:00  NASDAQ:NDX  12495.07350  12653.39940  12439.99810   \n",
       "\n",
       "                           close  volume  \n",
       "datetime                                  \n",
       "2005-02-17 21:30:00   1519.28979     0.0  \n",
       "2005-02-18 21:30:00   1515.39990     0.0  \n",
       "2005-02-22 21:30:00   1494.06982     0.0  \n",
       "2005-02-23 21:30:00   1497.08984     0.0  \n",
       "2005-02-24 21:30:00   1517.70996     0.0  \n",
       "...                          ...     ...  \n",
       "2023-02-10 21:30:00  12304.91700     0.0  \n",
       "2023-02-13 21:30:00  12502.31320     0.0  \n",
       "2023-02-14 21:30:00  12590.88630     0.0  \n",
       "2023-02-15 21:30:00  12687.89360     0.0  \n",
       "2023-02-16 21:30:00  12442.48060     0.0  \n",
       "\n",
       "[4531 rows x 6 columns]"
      ]
     },
     "execution_count": 204,
     "metadata": {},
     "output_type": "execute_result"
    }
   ],
   "source": [
    "# index\n",
    "nifty_index_data = tv.get_hist(symbol='NDX',exchange='NASDAQ',interval=Interval.in_daily,n_bars=4531)\n",
    "nifty_index_data"
   ]
  },
  {
   "cell_type": "code",
   "execution_count": 220,
   "id": "51ff7fd9",
   "metadata": {},
   "outputs": [
    {
     "data": {
      "text/plain": [
       "datetime     object\n",
       "symbol       object\n",
       "open        float64\n",
       "high        float64\n",
       "low         float64\n",
       "close       float64\n",
       "volume        int64\n",
       "dtype: object"
      ]
     },
     "execution_count": 220,
     "metadata": {},
     "output_type": "execute_result"
    }
   ],
   "source": [
    "stock_data = pd.read_csv('NDX_2005_2022_1.csv')\n",
    "#stock_data = pd.read_csv('GOOG_2014_2022.csv')\n",
    "stock_data.head()\n",
    "df = stock_data\n",
    "All_af = df\n",
    "df_close = df['close']\n",
    "df_datatime = df['datetime']\n",
    "df_train_3 = df[:-756:]\n",
    "Y1 = df[:-252:]\n",
    "Y3 = df[:-756:]\n",
    "Y5 = df[:-1259:]\n",
    "df[:-252:]\n",
    "result = df.dtypes\n",
    "result"
   ]
  },
  {
   "cell_type": "code",
   "execution_count": 206,
   "id": "95984a7d",
   "metadata": {},
   "outputs": [
    {
     "data": {
      "text/plain": [
       "datetime    0\n",
       "symbol      0\n",
       "open        0\n",
       "high        0\n",
       "low         0\n",
       "close       0\n",
       "volume      0\n",
       "dtype: int64"
      ]
     },
     "execution_count": 206,
     "metadata": {},
     "output_type": "execute_result"
    }
   ],
   "source": [
    "df.isnull().sum()"
   ]
  },
  {
   "cell_type": "code",
   "execution_count": 222,
   "id": "5ffc6d1a",
   "metadata": {},
   "outputs": [
    {
     "data": {
      "text/plain": [
       "Text(0, 0.5, 'prices ($)')"
      ]
     },
     "execution_count": 222,
     "metadata": {},
     "output_type": "execute_result"
    },
    {
     "data": {
      "image/png": "[encoded data removed]",
      "text/plain": [
       "<Figure size 1500x800 with 1 Axes>"
      ]
     },
     "metadata": {},
     "output_type": "display_data"
    }
   ],
   "source": [
    "#ราคาปิด\n",
    "plt.figure(figsize=(15, 8))\n",
    "plt.title('Prices History Close')\n",
    "plt.plot(df['close'][-252::])\n",
    "plt.xlabel('date')\n",
    "plt.ylabel('prices ($)')"
   ]
  },
  {
   "cell_type": "code",
   "execution_count": 207,
   "id": "bc6f02f3",
   "metadata": {},
   "outputs": [
    {
     "data": {
      "text/plain": [
       "Text(0, 0.5, 'prices ($)')"
      ]
     },
     "execution_count": 207,
     "metadata": {},
     "output_type": "execute_result"
    },
    {
     "data": {
      "image/png": "[encoded data removed]",
      "text/plain": [
       "<Figure size 1500x800 with 1 Axes>"
      ]
     },
     "metadata": {},
     "output_type": "display_data"
    }
   ],
   "source": [
    "#ราคาปิด\n",
    "plt.figure(figsize=(15, 8))\n",
    "plt.title('Prices History Close')\n",
    "plt.plot(df['close'])\n",
    "plt.xlabel('date')\n",
    "plt.ylabel('prices ($)')"
   ]
  },
  {
   "cell_type": "code",
   "execution_count": 208,
   "id": "ec576ffc",
   "metadata": {},
   "outputs": [
    {
     "name": "stdout",
     "output_type": "stream",
     "text": [
      "Samples: (4631, 7)\n",
      "Train set: (4379, 7)\n"
     ]
    }
   ],
   "source": [
    "print('Samples:', df.shape)\n",
    "print('Train set:', df[:-252].shape)"
   ]
  },
  {
   "cell_type": "code",
   "execution_count": 209,
   "id": "f0a81eef",
   "metadata": {},
   "outputs": [],
   "source": [
    "#Close\n",
    "close_prices = df['close']\n",
    "values = close_prices.values\n",
    "training_data_len = math.ceil(len(values)* (4279/4531))\n",
    "\n",
    "scaler = MinMaxScaler(feature_range=(0,1))\n",
    "scaled_data = scaler.fit_transform(values.reshape(-1,1))\n",
    "train_data = scaled_data[0: training_data_len, :]\n",
    "\n",
    "x_train = []\n",
    "y_train = []\n",
    "\n",
    "for i in range(252, len(train_data)):\n",
    "    x_train.append(train_data[i-252:i, 0])\n",
    "    y_train.append(train_data[i, 0])\n",
    "    \n",
    "x_train, y_train = np.array(x_train), np.array(y_train)\n",
    "x_train = np.reshape(x_train, (x_train.shape[0], x_train.shape[1], 1))"
   ]
  },
  {
   "cell_type": "code",
   "execution_count": 210,
   "id": "278c0868",
   "metadata": {},
   "outputs": [],
   "source": [
    "test_data = scaled_data[training_data_len-252: , : ]\n",
    "x_test = []\n",
    "#y_test = values[training_data_len:]\n",
    "y_test = scaled_data[training_data_len:]\n",
    "\n",
    "for i in range(252, len(test_data)):\n",
    "    x_test.append(test_data[i-252:i, 0])\n",
    "\n",
    "x_test = np.array(x_test)\n",
    "x_test = np.reshape(x_test, (x_test.shape[0], x_test.shape[1], 1))"
   ]
  },
  {
   "cell_type": "code",
   "execution_count": 211,
   "id": "f13baa86",
   "metadata": {},
   "outputs": [
    {
     "data": {
      "text/plain": [
       "4122"
      ]
     },
     "execution_count": 211,
     "metadata": {},
     "output_type": "execute_result"
    }
   ],
   "source": [
    "len(x_train)\n"
   ]
  },
  {
   "cell_type": "code",
   "execution_count": 212,
   "id": "97601985",
   "metadata": {},
   "outputs": [
    {
     "data": {
      "text/plain": [
       "array([0.0341672 , 0.03444976, 0.0345212 , ..., 0.90772868, 0.86662464,\n",
       "       0.87906207])"
      ]
     },
     "execution_count": 212,
     "metadata": {},
     "output_type": "execute_result"
    }
   ],
   "source": [
    "y_train"
   ]
  },
  {
   "cell_type": "code",
   "execution_count": 213,
   "id": "8619d184",
   "metadata": {},
   "outputs": [
    {
     "data": {
      "text/plain": [
       "array([[0.87113877],\n",
       "       [0.88245241],\n",
       "       [0.90240074],\n",
       "       [0.87978845],\n",
       "       [0.85070933],\n",
       "       [0.85165905],\n",
       "       [0.87432915],\n",
       "       [0.87322336],\n",
       "       [0.84542491],\n",
       "       [0.83498563],\n",
       "       [0.82603831],\n",
       "       [0.80279704],\n",
       "       [0.83274105],\n",
       "       [0.84654665],\n",
       "       [0.84967764],\n",
       "       [0.83475681],\n",
       "       [0.85005638],\n",
       "       [0.83663781],\n",
       "       [0.82393361],\n",
       "       [0.79056456],\n",
       "       [0.78723217],\n",
       "       [0.81777853],\n",
       "       [0.80804661],\n",
       "       [0.78943498],\n",
       "       [0.77301019],\n",
       "       [0.79952291],\n",
       "       [0.83159   ],\n",
       "       [0.84200491],\n",
       "       [0.86140917],\n",
       "       [0.85857781],\n",
       "       [0.87648632],\n",
       "       [0.86317687],\n",
       "       [0.88365398],\n",
       "       [0.88292118],\n",
       "       [0.89792385],\n",
       "       [0.91413786],\n",
       "       [0.90333963],\n",
       "       [0.88833955],\n",
       "       [0.88980176],\n",
       "       [0.90900578],\n",
       "       [0.88719038],\n",
       "       [0.86648127],\n",
       "       [0.86860045],\n",
       "       [0.8554347 ],\n",
       "       [0.83374103],\n",
       "       [0.83052513],\n",
       "       [0.84835693],\n",
       "       [0.8274984 ],\n",
       "       [0.82862789],\n",
       "       [0.8479042 ],\n",
       "       [0.8342768 ],\n",
       "       [0.81637889],\n",
       "       [0.79297749],\n",
       "       [0.80432828],\n",
       "       [0.77063342],\n",
       "       [0.7702243 ],\n",
       "       [0.79936162],\n",
       "       [0.76066296],\n",
       "       [0.77489003],\n",
       "       [0.77579442],\n",
       "       [0.80448821],\n",
       "       [0.76038936],\n",
       "       [0.75028318],\n",
       "       [0.71772741],\n",
       "       [0.72790546],\n",
       "       [0.70355694],\n",
       "       [0.7021371 ],\n",
       "       [0.73057918],\n",
       "       [0.7213225 ],\n",
       "       [0.74195242],\n",
       "       [0.70103099],\n",
       "       [0.69763997],\n",
       "       [0.69506503],\n",
       "       [0.70785149],\n",
       "       [0.69083127],\n",
       "       [0.70203611],\n",
       "       [0.72346009],\n",
       "       [0.7495035 ],\n",
       "       [0.74697269],\n",
       "       [0.74093951],\n",
       "       [0.76311408],\n",
       "       [0.74091773],\n",
       "       [0.74423917],\n",
       "       [0.75145078],\n",
       "       [0.74523671],\n",
       "       [0.72300918],\n",
       "       [0.69488489],\n",
       "       [0.65983898],\n",
       "       [0.66134298],\n",
       "       [0.67949892],\n",
       "       [0.64949288],\n",
       "       [0.65840174],\n",
       "       [0.67647296],\n",
       "       [0.67524714],\n",
       "       [0.68618658],\n",
       "       [0.71245782],\n",
       "       [0.70617566],\n",
       "       [0.68233071],\n",
       "       [0.68364979],\n",
       "       [0.67370273],\n",
       "       [0.67897788],\n",
       "       [0.69147904],\n",
       "       [0.69615716],\n",
       "       [0.7126641 ],\n",
       "       [0.71373494],\n",
       "       [0.69665231],\n",
       "       [0.68923155],\n",
       "       [0.68817225],\n",
       "       [0.69073826],\n",
       "       [0.70459106],\n",
       "       [0.69776057],\n",
       "       [0.72169853],\n",
       "       [0.73394441],\n",
       "       [0.7455122 ],\n",
       "       [0.73116298],\n",
       "       [0.72678273],\n",
       "       [0.71123798],\n",
       "       [0.74435761],\n",
       "       [0.75184952],\n",
       "       [0.76665976],\n",
       "       [0.76619688],\n",
       "       [0.76367498],\n",
       "       [0.78630882],\n",
       "       [0.79002788],\n",
       "       [0.78337601],\n",
       "       [0.78025239],\n",
       "       [0.77053382],\n",
       "       [0.79435823],\n",
       "       [0.78880144],\n",
       "       [0.80642958],\n",
       "       [0.8129501 ],\n",
       "       [0.81089238],\n",
       "       [0.80031413],\n",
       "       [0.80257545],\n",
       "       [0.78564217],\n",
       "       [0.76296297],\n",
       "       [0.76239982],\n",
       "       [0.76472171],\n",
       "       [0.77924972],\n",
       "       [0.74459549],\n",
       "       [0.73681757],\n",
       "       [0.72770224],\n",
       "       [0.72315383],\n",
       "       [0.7233208 ],\n",
       "       [0.71198116],\n",
       "       [0.70637327],\n",
       "       [0.72234008],\n",
       "       [0.72631815],\n",
       "       [0.74350941],\n",
       "       [0.75325592],\n",
       "       [0.707809  ],\n",
       "       [0.71429546],\n",
       "       [0.70097794],\n",
       "       [0.69672282],\n",
       "       [0.7026377 ],\n",
       "       [0.69608954],\n",
       "       [0.6823322 ],\n",
       "       [0.67356953],\n",
       "       [0.66131453],\n",
       "       [0.65763736],\n",
       "       [0.65877258],\n",
       "       [0.6730662 ],\n",
       "       [0.6518877 ],\n",
       "       [0.63942969],\n",
       "       [0.6560679 ],\n",
       "       [0.67877595],\n",
       "       [0.67817375],\n",
       "       [0.6725305 ],\n",
       "       [0.64382228],\n",
       "       [0.6365812 ],\n",
       "       [0.62785238],\n",
       "       [0.62748342],\n",
       "       [0.64344325],\n",
       "       [0.62146178],\n",
       "       [0.64530665],\n",
       "       [0.65079064],\n",
       "       [0.64793559],\n",
       "       [0.64428806],\n",
       "       [0.66125587],\n",
       "       [0.66897495],\n",
       "       [0.68440477],\n",
       "       [0.66740665],\n",
       "       [0.65361585],\n",
       "       [0.67643749],\n",
       "       [0.66738562],\n",
       "       [0.65987981],\n",
       "       [0.63525386],\n",
       "       [0.62136786],\n",
       "       [0.63207973],\n",
       "       [0.63980146],\n",
       "       [0.64511134],\n",
       "       [0.6282516 ],\n",
       "       [0.68028313],\n",
       "       [0.69386717],\n",
       "       [0.68639666],\n",
       "       [0.69735178],\n",
       "       [0.68627734],\n",
       "       [0.68484656],\n",
       "       [0.68485689],\n",
       "       [0.6769038 ],\n",
       "       [0.68793475],\n",
       "       [0.69526428],\n",
       "       [0.68994264],\n",
       "       [0.67911147],\n",
       "       [0.67368559],\n",
       "       [0.70757984],\n",
       "       [0.70834157],\n",
       "       [0.70527562],\n",
       "       [0.69192285],\n",
       "       [0.6766614 ],\n",
       "       [0.67329563],\n",
       "       [0.68231314],\n",
       "       [0.67753939],\n",
       "       [0.68675059],\n",
       "       [0.69497402],\n",
       "       [0.68897014],\n",
       "       [0.66350111],\n",
       "       [0.65696858],\n",
       "       [0.64672663],\n",
       "       [0.64594338],\n",
       "       [0.65646388],\n",
       "       [0.63845918],\n",
       "       [0.64034521],\n",
       "       [0.62985834],\n",
       "       [0.62064351],\n",
       "       [0.63813117],\n",
       "       [0.63740477],\n",
       "       [0.63244078],\n",
       "       [0.63579822],\n",
       "       [0.62462584],\n",
       "       [0.64387923],\n",
       "       [0.64826177],\n",
       "       [0.65452654],\n",
       "       [0.66718968],\n",
       "       [0.67086405],\n",
       "       [0.6761334 ],\n",
       "       [0.67714415],\n",
       "       [0.66768922],\n",
       "       [0.66031215],\n",
       "       [0.68112444],\n",
       "       [0.69744161],\n",
       "       [0.69577465],\n",
       "       [0.69371774],\n",
       "       [0.70895848],\n",
       "       [0.71636805],\n",
       "       [0.70000594],\n",
       "       [0.71220558],\n",
       "       [0.7290156 ],\n",
       "       [0.75733774],\n",
       "       [0.7425484 ],\n",
       "       [0.73554272],\n",
       "       [0.75251903],\n",
       "       [0.73752913],\n",
       "       [0.7301784 ],\n",
       "       [0.72527051],\n",
       "       [0.73797556],\n",
       "       [0.74367641]])"
      ]
     },
     "execution_count": 213,
     "metadata": {},
     "output_type": "execute_result"
    }
   ],
   "source": [
    "y_test"
   ]
  },
  {
   "cell_type": "code",
   "execution_count": 214,
   "id": "0cbbf654",
   "metadata": {},
   "outputs": [
    {
     "name": "stdout",
     "output_type": "stream",
     "text": [
      "Model: \"sequential_8\"\n",
      "_________________________________________________________________\n",
      " Layer (type)                Output Shape              Param #   \n",
      "=================================================================\n",
      " gru_40 (GRU)                (None, 252, 250)          189750    \n",
      "                                                                 \n",
      " dense_48 (Dense)            (None, 252, 250)          62750     \n",
      "                                                                 \n",
      " dropout_40 (Dropout)        (None, 252, 250)          0         \n",
      "                                                                 \n",
      " gru_41 (GRU)                (None, 252, 200)          271200    \n",
      "                                                                 \n",
      " dense_49 (Dense)            (None, 252, 200)          40200     \n",
      "                                                                 \n",
      " dropout_41 (Dropout)        (None, 252, 200)          0         \n",
      "                                                                 \n",
      " gru_42 (GRU)                (None, 252, 150)          158400    \n",
      "                                                                 \n",
      " dense_50 (Dense)            (None, 252, 150)          22650     \n",
      "                                                                 \n",
      " dropout_42 (Dropout)        (None, 252, 150)          0         \n",
      "                                                                 \n",
      " gru_43 (GRU)                (None, 252, 100)          75600     \n",
      "                                                                 \n",
      " dense_51 (Dense)            (None, 252, 100)          10100     \n",
      "                                                                 \n",
      " dropout_43 (Dropout)        (None, 252, 100)          0         \n",
      "                                                                 \n",
      " gru_44 (GRU)                (None, 50)                22800     \n",
      "                                                                 \n",
      " dense_52 (Dense)            (None, 50)                2550      \n",
      "                                                                 \n",
      " dropout_44 (Dropout)        (None, 50)                0         \n",
      "                                                                 \n",
      " dense_53 (Dense)            (None, 1)                 51        \n",
      "                                                                 \n",
      "=================================================================\n",
      "Total params: 856,051\n",
      "Trainable params: 856,051\n",
      "Non-trainable params: 0\n",
      "_________________________________________________________________\n"
     ]
    }
   ],
   "source": [
    "# GRU\n",
    "model = Sequential()\n",
    "step = 252 \n",
    "\n",
    "model.add(GRU(units=250, return_sequences=True, input_shape=(step, 1), activation='tanh'))\n",
    "model.add(Dense(250 , input_shape=(step, 1), activation='tanh'))\n",
    "model.add(Dropout(0.2))\n",
    "model.add(GRU(units=200, return_sequences=True, input_shape=(step, 1), activation='tanh'))\n",
    "model.add(Dense(200 , input_shape=(step, 1), activation='tanh'))\n",
    "model.add(Dropout(0.2))\n",
    "model.add(GRU(units=150, return_sequences=True, input_shape=(step, 1), activation='tanh'))\n",
    "model.add(Dense(150 , input_shape=(step, 1), activation='tanh'))\n",
    "model.add(Dropout(0.2))\n",
    "model.add(GRU(units=100, return_sequences=True, input_shape=(step, 1), activation='tanh'))\n",
    "model.add(Dense(100 , input_shape=(step, 1), activation='tanh'))\n",
    "model.add(Dropout(0.2))\n",
    "model.add(GRU(units=50, input_shape=(step, 1), activation='tanh'))\n",
    "model.add(Dense(50 , input_shape=(step, 1), activation='tanh'))\n",
    "model.add(Dropout(0.2))\n",
    "model.add(Dense(units=1))\n",
    "\n",
    "#model = Sequential(name=\"GRU-Model\") # Model\n",
    "#model.add(Input(shape=(x_train.shape[1],x_train.shape[2]), name='Input-Layer')) # Input Layer - need to speicfy the shape of inputs\n",
    "#model.add(Bidirectional(GRU(units=32, activation='tanh', recurrent_activation='sigmoid', stateful=False), name='Hidden-GRU-Encoder-Layer')) # Encoder Layer\n",
    "#model.add(RepeatVector(x_train.shape[1], name='Repeat-Vector-Layer')) # Repeat Vector\n",
    "#model.add(Bidirectional(GRU(units=32, activation='tanh', recurrent_activation='sigmoid', stateful=False, return_sequences=True), name='Hidden-GRU-Decoder-Layer')) # Decoder Layer\n",
    "#model.add(TimeDistributed(Dense(units=1, activation='linear'), name='Output-Layer')) # Output Layer, Linear(x) = x\n",
    "\n",
    "#rmsprop = optimizers.RMSprop(lr=0.001, rho=0.9, epsilon=1e-08, decay=0.0)\n",
    "model.compile(loss='mean_squared_error', optimizer='adam')\n",
    "#model.compile(optimizer='adam', # default='rmsprop', an algorithm to be used in backpropagation\n",
    " #             loss='mean_squared_error', # Loss function to be optimized. A string (name of loss function), or a tf.keras.losses.Loss instance.\n",
    "  #            metrics=['MeanSquaredError', 'MeanAbsoluteError'], # List of metrics to be evaluated by the model during training and testing. Each of this can be a string (name of a built-in function), function or a tf.keras.metrics.Metric instance. \n",
    "   #           loss_weights=None, # default=None, Optional list or dictionary specifying scalar coefficients (Python floats) to weight the loss contributions of different model outputs.\n",
    "    #          weighted_metrics=None, # default=None, List of metrics to be evaluated and weighted by sample_weight or class_weight during training and testing.\n",
    "     #         run_eagerly=None, # Defaults to False. If True, this Model's logic will not be wrapped in a tf.function. Recommended to leave this as None unless your Model cannot be run inside a tf.function.\n",
    "      #        steps_per_execution=None # Defaults to 1. The number of batches to run during each tf.function call. Running multiple batches inside a single tf.function call can greatly improve performance on TPUs or small models with a large Python overhead.\n",
    "       #      )\n",
    "model.summary()"
   ]
  },
  {
   "cell_type": "code",
   "execution_count": 215,
   "id": "a70c9835",
   "metadata": {},
   "outputs": [
    {
     "name": "stdout",
     "output_type": "stream",
     "text": [
      "Model: \"sequential_9\"\n",
      "_________________________________________________________________\n",
      " Layer (type)                Output Shape              Param #   \n",
      "=================================================================\n",
      " gru_45 (GRU)                (None, 252, 250)          189750    \n",
      "                                                                 \n",
      " dense_54 (Dense)            (None, 252, 250)          62750     \n",
      "                                                                 \n",
      " dropout_45 (Dropout)        (None, 252, 250)          0         \n",
      "                                                                 \n",
      " gru_46 (GRU)                (None, 252, 200)          271200    \n",
      "                                                                 \n",
      " dense_55 (Dense)            (None, 252, 200)          40200     \n",
      "                                                                 \n",
      " dropout_46 (Dropout)        (None, 252, 200)          0         \n",
      "                                                                 \n",
      " gru_47 (GRU)                (None, 252, 150)          158400    \n",
      "                                                                 \n",
      " dense_56 (Dense)            (None, 252, 150)          22650     \n",
      "                                                                 \n",
      " dropout_47 (Dropout)        (None, 252, 150)          0         \n",
      "                                                                 \n",
      " gru_48 (GRU)                (None, 252, 100)          75600     \n",
      "                                                                 \n",
      " dense_57 (Dense)            (None, 252, 100)          10100     \n",
      "                                                                 \n",
      " dropout_48 (Dropout)        (None, 252, 100)          0         \n",
      "                                                                 \n",
      " gru_49 (GRU)                (None, 50)                22800     \n",
      "                                                                 \n",
      " dense_58 (Dense)            (None, 50)                2550      \n",
      "                                                                 \n",
      " dropout_49 (Dropout)        (None, 50)                0         \n",
      "                                                                 \n",
      " dense_59 (Dense)            (None, 1)                 51        \n",
      "                                                                 \n",
      "=================================================================\n",
      "Total params: 856,051\n",
      "Trainable params: 856,051\n",
      "Non-trainable params: 0\n",
      "_________________________________________________________________\n"
     ]
    }
   ],
   "source": [
    "# GRU\n",
    "model = Sequential()\n",
    "step = 252 \n",
    "\n",
    "model.add(GRU(units=250, return_sequences=True, input_shape=(step, 1), activation='tanh'))\n",
    "model.add(Dense(250 , input_shape=(step, 1), activation='tanh'))\n",
    "model.add(Dropout(0.2))\n",
    "model.add(GRU(units=200, return_sequences=True, input_shape=(step, 1), activation='tanh'))\n",
    "model.add(Dense(200 , input_shape=(step, 1), activation='tanh'))\n",
    "model.add(Dropout(0.2))\n",
    "model.add(GRU(units=150, return_sequences=True, input_shape=(step, 1), activation='tanh'))\n",
    "model.add(Dense(150 , input_shape=(step, 1), activation='tanh'))\n",
    "model.add(Dropout(0.2))\n",
    "model.add(GRU(units=100, return_sequences=True, input_shape=(step, 1), activation='tanh'))\n",
    "model.add(Dense(100 , input_shape=(step, 1), activation='tanh'))\n",
    "model.add(Dropout(0.2))\n",
    "model.add(GRU(units=50, input_shape=(step, 1), activation='tanh'))\n",
    "model.add(Dense(50 , input_shape=(step, 1), activation='tanh'))\n",
    "model.add(Dropout(0.2))\n",
    "model.add(Dense(units=1))\n",
    "\n",
    "model.compile(loss='mean_squared_error', optimizer='adam')#,metrics = ['accuracy'])\n",
    "\n",
    "model.summary()"
   ]
  },
  {
   "cell_type": "code",
   "execution_count": 216,
   "id": "123ef20c",
   "metadata": {},
   "outputs": [],
   "source": [
    "checkpoint_name = 'Weights-{epoch:03d}--{val_loss:.5f}.hdf5' \n",
    "checkpoint = ModelCheckpoint(checkpoint_name, monitor='val_loss', verbose = 1, save_best_only = True, mode ='auto')\n",
    "callbacks_list = [checkpoint]"
   ]
  },
  {
   "cell_type": "code",
   "execution_count": 217,
   "id": "3c1f4716",
   "metadata": {},
   "outputs": [
    {
     "name": "stdout",
     "output_type": "stream",
     "text": [
      "65/65 [==============================] - 86s 1s/step - loss: 0.0101 - val_loss: 0.0037\n"
     ]
    }
   ],
   "source": [
    "history = model.fit(x_train, y_train, batch_size= 64, epochs=1,validation_data=(x_test,y_test), verbose=1)#, callbacks=callbacks_list)"
   ]
  },
  {
   "cell_type": "code",
   "execution_count": 218,
   "id": "308a74a1",
   "metadata": {},
   "outputs": [
    {
     "name": "stdout",
     "output_type": "stream",
     "text": [
      "0.000905972789041698 0.0037080738693475723\n"
     ]
    }
   ],
   "source": [
    "train_mse = model.evaluate(x_train, y_train, verbose=0)\n",
    "test_mse = model.evaluate(x_test, y_test, verbose=0)\n",
    "print(train_mse, test_mse)"
   ]
  },
  {
   "cell_type": "code",
   "execution_count": 219,
   "id": "d11f7720",
   "metadata": {},
   "outputs": [
    {
     "data": {
      "image/png": "[encoded data removed]",
      "text/plain": [
       "<Figure size 640x480 with 1 Axes>"
      ]
     },
     "metadata": {},
     "output_type": "display_data"
    }
   ],
   "source": [
    "from matplotlib import pyplot\n",
    "pyplot.title('Loss / Mean Squared Error')\n",
    "pyplot.plot(history.history['loss'], label='train')\n",
    "pyplot.plot(history.history['val_loss'], label='test')\n",
    "pyplot.legend()\n",
    "pyplot.show()"
   ]
  },
  {
   "cell_type": "code",
   "execution_count": 104,
   "id": "62026c1a",
   "metadata": {},
   "outputs": [],
   "source": [
    "# Load wights file of the best model :\n",
    "wights_file = 'Weights-020--0.00085.hdf5' # choose the best checkpoint \n",
    "model.load_weights(wights_file) # load it\n",
    "model.compile(loss='mean_absolute_error', optimizer='adam', metrics=['mean_absolute_error'])"
   ]
  },
  {
   "cell_type": "code",
   "execution_count": 198,
   "id": "72a427d8",
   "metadata": {},
   "outputs": [
    {
     "name": "stdout",
     "output_type": "stream",
     "text": [
      "9/9 [==============================] - 2s 240ms/step\n"
     ]
    },
    {
     "data": {
      "text/plain": [
       "12272.888882816855"
      ]
     },
     "execution_count": 198,
     "metadata": {},
     "output_type": "execute_result"
    }
   ],
   "source": [
    "predictions = model.predict(x_test)\n",
    "predictions = scaler.inverse_transform(predictions)\n",
    "rmse = np.sqrt(np.mean(predictions - y_test)**2)\n",
    "rmse"
   ]
  },
  {
   "cell_type": "code",
   "execution_count": 199,
   "id": "7e462e23",
   "metadata": {},
   "outputs": [
    {
     "data": {
      "image/png": "[encoded data removed]",
      "text/plain": [
       "<Figure size 640x480 with 1 Axes>"
      ]
     },
     "metadata": {},
     "output_type": "display_data"
    }
   ],
   "source": [
    "plt.plot(history.history['loss'])\n",
    "plt.plot(history.history['val_loss'])\n",
    "plt.title('model loss')\n",
    "plt.ylabel('loss')\n",
    "plt.xlabel('epoch')\n",
    "plt.legend(['train', 'test'], loc='upper left')\n",
    "plt.show()"
   ]
  },
  {
   "cell_type": "code",
   "execution_count": 200,
   "id": "63599e6c",
   "metadata": {},
   "outputs": [
    {
     "data": {
      "image/png": "[encoded data removed]",
      "text/plain": [
       "<Figure size 640x480 with 1 Axes>"
      ]
     },
     "metadata": {},
     "output_type": "display_data"
    }
   ],
   "source": [
    "plt.plot(history.history['loss'], label='Train loss')\n",
    "plt.legend()\n",
    "plt.show()"
   ]
  },
  {
   "cell_type": "code",
   "execution_count": 201,
   "id": "c66631d6",
   "metadata": {},
   "outputs": [
    {
     "ename": "ValueError",
     "evalue": "Cannot set a frame with no defined index and a value that cannot be converted to a Series",
     "output_type": "error",
     "traceback": [
      "\u001b[0;31m---------------------------------------------------------------------------\u001b[0m",
      "\u001b[0;31mValueError\u001b[0m                                Traceback (most recent call last)",
      "File \u001b[0;32m~/opt/anaconda3/envs/tf/lib/python3.10/site-packages/pandas/core/frame.py:4240\u001b[0m, in \u001b[0;36mDataFrame._ensure_valid_index\u001b[0;34m(self, value)\u001b[0m\n\u001b[1;32m   4239\u001b[0m \u001b[38;5;28;01mtry\u001b[39;00m:\n\u001b[0;32m-> 4240\u001b[0m     value \u001b[38;5;241m=\u001b[39m \u001b[43mSeries\u001b[49m\u001b[43m(\u001b[49m\u001b[43mvalue\u001b[49m\u001b[43m)\u001b[49m\n\u001b[1;32m   4241\u001b[0m \u001b[38;5;28;01mexcept\u001b[39;00m (\u001b[38;5;167;01mValueError\u001b[39;00m, \u001b[38;5;167;01mNotImplementedError\u001b[39;00m, \u001b[38;5;167;01mTypeError\u001b[39;00m) \u001b[38;5;28;01mas\u001b[39;00m err:\n",
      "File \u001b[0;32m~/opt/anaconda3/envs/tf/lib/python3.10/site-packages/pandas/core/series.py:470\u001b[0m, in \u001b[0;36mSeries.__init__\u001b[0;34m(self, data, index, dtype, name, copy, fastpath)\u001b[0m\n\u001b[1;32m    469\u001b[0m \u001b[38;5;28;01melse\u001b[39;00m:\n\u001b[0;32m--> 470\u001b[0m     data \u001b[38;5;241m=\u001b[39m \u001b[43msanitize_array\u001b[49m\u001b[43m(\u001b[49m\u001b[43mdata\u001b[49m\u001b[43m,\u001b[49m\u001b[43m \u001b[49m\u001b[43mindex\u001b[49m\u001b[43m,\u001b[49m\u001b[43m \u001b[49m\u001b[43mdtype\u001b[49m\u001b[43m,\u001b[49m\u001b[43m \u001b[49m\u001b[43mcopy\u001b[49m\u001b[43m)\u001b[49m\n\u001b[1;32m    472\u001b[0m     manager \u001b[38;5;241m=\u001b[39m get_option(\u001b[38;5;124m\"\u001b[39m\u001b[38;5;124mmode.data_manager\u001b[39m\u001b[38;5;124m\"\u001b[39m)\n",
      "File \u001b[0;32m~/opt/anaconda3/envs/tf/lib/python3.10/site-packages/pandas/core/construction.py:647\u001b[0m, in \u001b[0;36msanitize_array\u001b[0;34m(data, index, dtype, copy, raise_cast_failure, allow_2d)\u001b[0m\n\u001b[1;32m    645\u001b[0m             subarr \u001b[38;5;241m=\u001b[39m maybe_infer_to_datetimelike(subarr)\n\u001b[0;32m--> 647\u001b[0m subarr \u001b[38;5;241m=\u001b[39m \u001b[43m_sanitize_ndim\u001b[49m\u001b[43m(\u001b[49m\u001b[43msubarr\u001b[49m\u001b[43m,\u001b[49m\u001b[43m \u001b[49m\u001b[43mdata\u001b[49m\u001b[43m,\u001b[49m\u001b[43m \u001b[49m\u001b[43mdtype\u001b[49m\u001b[43m,\u001b[49m\u001b[43m \u001b[49m\u001b[43mindex\u001b[49m\u001b[43m,\u001b[49m\u001b[43m \u001b[49m\u001b[43mallow_2d\u001b[49m\u001b[38;5;241;43m=\u001b[39;49m\u001b[43mallow_2d\u001b[49m\u001b[43m)\u001b[49m\n\u001b[1;32m    649\u001b[0m \u001b[38;5;28;01mif\u001b[39;00m \u001b[38;5;28misinstance\u001b[39m(subarr, np\u001b[38;5;241m.\u001b[39mndarray):\n\u001b[1;32m    650\u001b[0m     \u001b[38;5;66;03m# at this point we should have dtype be None or subarr.dtype == dtype\u001b[39;00m\n",
      "File \u001b[0;32m~/opt/anaconda3/envs/tf/lib/python3.10/site-packages/pandas/core/construction.py:698\u001b[0m, in \u001b[0;36m_sanitize_ndim\u001b[0;34m(result, data, dtype, index, allow_2d)\u001b[0m\n\u001b[1;32m    697\u001b[0m         \u001b[38;5;28;01mreturn\u001b[39;00m result\n\u001b[0;32m--> 698\u001b[0m     \u001b[38;5;28;01mraise\u001b[39;00m \u001b[38;5;167;01mValueError\u001b[39;00m(\u001b[38;5;124m\"\u001b[39m\u001b[38;5;124mData must be 1-dimensional\u001b[39m\u001b[38;5;124m\"\u001b[39m)\n\u001b[1;32m    699\u001b[0m \u001b[38;5;28;01mif\u001b[39;00m is_object_dtype(dtype) \u001b[38;5;129;01mand\u001b[39;00m \u001b[38;5;28misinstance\u001b[39m(dtype, ExtensionDtype):\n\u001b[1;32m    700\u001b[0m     \u001b[38;5;66;03m# i.e. PandasDtype(\"O\")\u001b[39;00m\n",
      "\u001b[0;31mValueError\u001b[0m: Data must be 1-dimensional",
      "\nThe above exception was the direct cause of the following exception:\n",
      "\u001b[0;31mValueError\u001b[0m                                Traceback (most recent call last)",
      "Input \u001b[0;32mIn [201]\u001b[0m, in \u001b[0;36m<cell line: 4>\u001b[0;34m()\u001b[0m\n\u001b[1;32m      2\u001b[0m train \u001b[38;5;241m=\u001b[39m data[:training_data_len]\n\u001b[1;32m      3\u001b[0m validation \u001b[38;5;241m=\u001b[39m data[training_data_len:]\n\u001b[0;32m----> 4\u001b[0m validation[\u001b[38;5;124m'\u001b[39m\u001b[38;5;124mPredictions\u001b[39m\u001b[38;5;124m'\u001b[39m] \u001b[38;5;241m=\u001b[39m predictions\n\u001b[1;32m      5\u001b[0m plt\u001b[38;5;241m.\u001b[39mfigure(figsize\u001b[38;5;241m=\u001b[39m(\u001b[38;5;241m32\u001b[39m,\u001b[38;5;241m16\u001b[39m))\n\u001b[1;32m      6\u001b[0m plt\u001b[38;5;241m.\u001b[39mtitle(\u001b[38;5;124m'\u001b[39m\u001b[38;5;124mModel\u001b[39m\u001b[38;5;124m'\u001b[39m)\n",
      "File \u001b[0;32m~/opt/anaconda3/envs/tf/lib/python3.10/site-packages/pandas/core/frame.py:3978\u001b[0m, in \u001b[0;36mDataFrame.__setitem__\u001b[0;34m(self, key, value)\u001b[0m\n\u001b[1;32m   3975\u001b[0m     \u001b[38;5;28mself\u001b[39m\u001b[38;5;241m.\u001b[39m_setitem_array([key], value)\n\u001b[1;32m   3976\u001b[0m \u001b[38;5;28;01melse\u001b[39;00m:\n\u001b[1;32m   3977\u001b[0m     \u001b[38;5;66;03m# set column\u001b[39;00m\n\u001b[0;32m-> 3978\u001b[0m     \u001b[38;5;28;43mself\u001b[39;49m\u001b[38;5;241;43m.\u001b[39;49m\u001b[43m_set_item\u001b[49m\u001b[43m(\u001b[49m\u001b[43mkey\u001b[49m\u001b[43m,\u001b[49m\u001b[43m \u001b[49m\u001b[43mvalue\u001b[49m\u001b[43m)\u001b[49m\n",
      "File \u001b[0;32m~/opt/anaconda3/envs/tf/lib/python3.10/site-packages/pandas/core/frame.py:4172\u001b[0m, in \u001b[0;36mDataFrame._set_item\u001b[0;34m(self, key, value)\u001b[0m\n\u001b[1;32m   4162\u001b[0m \u001b[38;5;28;01mdef\u001b[39;00m \u001b[38;5;21m_set_item\u001b[39m(\u001b[38;5;28mself\u001b[39m, key, value) \u001b[38;5;241m-\u001b[39m\u001b[38;5;241m>\u001b[39m \u001b[38;5;28;01mNone\u001b[39;00m:\n\u001b[1;32m   4163\u001b[0m     \u001b[38;5;124;03m\"\"\"\u001b[39;00m\n\u001b[1;32m   4164\u001b[0m \u001b[38;5;124;03m    Add series to DataFrame in specified column.\u001b[39;00m\n\u001b[1;32m   4165\u001b[0m \n\u001b[0;32m   (...)\u001b[0m\n\u001b[1;32m   4170\u001b[0m \u001b[38;5;124;03m    ensure homogeneity.\u001b[39;00m\n\u001b[1;32m   4171\u001b[0m \u001b[38;5;124;03m    \"\"\"\u001b[39;00m\n\u001b[0;32m-> 4172\u001b[0m     value \u001b[38;5;241m=\u001b[39m \u001b[38;5;28;43mself\u001b[39;49m\u001b[38;5;241;43m.\u001b[39;49m\u001b[43m_sanitize_column\u001b[49m\u001b[43m(\u001b[49m\u001b[43mvalue\u001b[49m\u001b[43m)\u001b[49m\n\u001b[1;32m   4174\u001b[0m     \u001b[38;5;28;01mif\u001b[39;00m (\n\u001b[1;32m   4175\u001b[0m         key \u001b[38;5;129;01min\u001b[39;00m \u001b[38;5;28mself\u001b[39m\u001b[38;5;241m.\u001b[39mcolumns\n\u001b[1;32m   4176\u001b[0m         \u001b[38;5;129;01mand\u001b[39;00m value\u001b[38;5;241m.\u001b[39mndim \u001b[38;5;241m==\u001b[39m \u001b[38;5;241m1\u001b[39m\n\u001b[1;32m   4177\u001b[0m         \u001b[38;5;129;01mand\u001b[39;00m \u001b[38;5;129;01mnot\u001b[39;00m is_extension_array_dtype(value)\n\u001b[1;32m   4178\u001b[0m     ):\n\u001b[1;32m   4179\u001b[0m         \u001b[38;5;66;03m# broadcast across multiple columns if necessary\u001b[39;00m\n\u001b[1;32m   4180\u001b[0m         \u001b[38;5;28;01mif\u001b[39;00m \u001b[38;5;129;01mnot\u001b[39;00m \u001b[38;5;28mself\u001b[39m\u001b[38;5;241m.\u001b[39mcolumns\u001b[38;5;241m.\u001b[39mis_unique \u001b[38;5;129;01mor\u001b[39;00m \u001b[38;5;28misinstance\u001b[39m(\u001b[38;5;28mself\u001b[39m\u001b[38;5;241m.\u001b[39mcolumns, MultiIndex):\n",
      "File \u001b[0;32m~/opt/anaconda3/envs/tf/lib/python3.10/site-packages/pandas/core/frame.py:4902\u001b[0m, in \u001b[0;36mDataFrame._sanitize_column\u001b[0;34m(self, value)\u001b[0m\n\u001b[1;32m   4889\u001b[0m \u001b[38;5;28;01mdef\u001b[39;00m \u001b[38;5;21m_sanitize_column\u001b[39m(\u001b[38;5;28mself\u001b[39m, value) \u001b[38;5;241m-\u001b[39m\u001b[38;5;241m>\u001b[39m ArrayLike:\n\u001b[1;32m   4890\u001b[0m     \u001b[38;5;124;03m\"\"\"\u001b[39;00m\n\u001b[1;32m   4891\u001b[0m \u001b[38;5;124;03m    Ensures new columns (which go into the BlockManager as new blocks) are\u001b[39;00m\n\u001b[1;32m   4892\u001b[0m \u001b[38;5;124;03m    always copied and converted into an array.\u001b[39;00m\n\u001b[0;32m   (...)\u001b[0m\n\u001b[1;32m   4900\u001b[0m \u001b[38;5;124;03m    numpy.ndarray or ExtensionArray\u001b[39;00m\n\u001b[1;32m   4901\u001b[0m \u001b[38;5;124;03m    \"\"\"\u001b[39;00m\n\u001b[0;32m-> 4902\u001b[0m     \u001b[38;5;28;43mself\u001b[39;49m\u001b[38;5;241;43m.\u001b[39;49m\u001b[43m_ensure_valid_index\u001b[49m\u001b[43m(\u001b[49m\u001b[43mvalue\u001b[49m\u001b[43m)\u001b[49m\n\u001b[1;32m   4904\u001b[0m     \u001b[38;5;66;03m# We can get there through isetitem with a DataFrame\u001b[39;00m\n\u001b[1;32m   4905\u001b[0m     \u001b[38;5;66;03m# or through loc single_block_path\u001b[39;00m\n\u001b[1;32m   4906\u001b[0m     \u001b[38;5;28;01mif\u001b[39;00m \u001b[38;5;28misinstance\u001b[39m(value, DataFrame):\n",
      "File \u001b[0;32m~/opt/anaconda3/envs/tf/lib/python3.10/site-packages/pandas/core/frame.py:4242\u001b[0m, in \u001b[0;36mDataFrame._ensure_valid_index\u001b[0;34m(self, value)\u001b[0m\n\u001b[1;32m   4240\u001b[0m         value \u001b[38;5;241m=\u001b[39m Series(value)\n\u001b[1;32m   4241\u001b[0m     \u001b[38;5;28;01mexcept\u001b[39;00m (\u001b[38;5;167;01mValueError\u001b[39;00m, \u001b[38;5;167;01mNotImplementedError\u001b[39;00m, \u001b[38;5;167;01mTypeError\u001b[39;00m) \u001b[38;5;28;01mas\u001b[39;00m err:\n\u001b[0;32m-> 4242\u001b[0m         \u001b[38;5;28;01mraise\u001b[39;00m \u001b[38;5;167;01mValueError\u001b[39;00m(\n\u001b[1;32m   4243\u001b[0m             \u001b[38;5;124m\"\u001b[39m\u001b[38;5;124mCannot set a frame with no defined index \u001b[39m\u001b[38;5;124m\"\u001b[39m\n\u001b[1;32m   4244\u001b[0m             \u001b[38;5;124m\"\u001b[39m\u001b[38;5;124mand a value that cannot be converted to a Series\u001b[39m\u001b[38;5;124m\"\u001b[39m\n\u001b[1;32m   4245\u001b[0m         ) \u001b[38;5;28;01mfrom\u001b[39;00m \u001b[38;5;21;01merr\u001b[39;00m\n\u001b[1;32m   4247\u001b[0m \u001b[38;5;66;03m# GH31368 preserve name of index\u001b[39;00m\n\u001b[1;32m   4248\u001b[0m index_copy \u001b[38;5;241m=\u001b[39m value\u001b[38;5;241m.\u001b[39mindex\u001b[38;5;241m.\u001b[39mcopy()\n",
      "\u001b[0;31mValueError\u001b[0m: Cannot set a frame with no defined index and a value that cannot be converted to a Series"
     ]
    }
   ],
   "source": [
    "data = df.filter(['close'])\n",
    "train = data[:training_data_len]\n",
    "validation = data[training_data_len:]\n",
    "validation['Predictions'] = predictions\n",
    "plt.figure(figsize=(32,16))\n",
    "plt.title('Model')\n",
    "plt.xlabel('date')\n",
    "plt.ylabel('close Price USD ($)')\n",
    "#plt.plot(train)\n",
    "plt.plot(validation[['close', 'Predictions']])\n",
    "plt.legend(['Train', 'Val', 'Predictions'], loc='lower right')\n",
    "plt.savefig('Time_Series_Crypto.png')\n",
    "plt.show()"
   ]
  },
  {
   "cell_type": "code",
   "execution_count": 154,
   "id": "9965f3ff",
   "metadata": {},
   "outputs": [],
   "source": [
    "df_afPredict = df"
   ]
  },
  {
   "cell_type": "code",
   "execution_count": 155,
   "id": "2ee8d074",
   "metadata": {},
   "outputs": [
    {
     "data": {
      "image/png": "[encoded data removed]",
      "text/plain": [
       "<Figure size 640x480 with 1 Axes>"
      ]
     },
     "metadata": {},
     "output_type": "display_data"
    }
   ],
   "source": [
    "# Generate a noisy AR(1) sample\n",
    "\n",
    "np.random.seed(0)\n",
    "#rs = testPredict_inv\n",
    "#xs = [172.98575]\n",
    "#rs = np.random.randn(200)\n",
    "#xs = [0]\n",
    "#for r in rs:\n",
    "#    xs.append(xs[-1] * 0.9 + r)\n",
    "#df = pd.DataFrame(xs, columns=['data'])\n",
    "df = pd.DataFrame(data = predictions ,columns=['data'] )\n",
    "\n",
    "n = 5  # number of points to be checked before and after\n",
    "\n",
    "# Find local peaks\n",
    "\n",
    "df['min'] = df.iloc[argrelextrema(df.data.values, np.less_equal,\n",
    "                    order=n)[0]]['data']\n",
    "df['max'] = df.iloc[argrelextrema(df.data.values, np.greater_equal,\n",
    "                    order=n)[0]]['data']\n",
    "\n",
    "# Plot results\n",
    "\n",
    "plt.scatter(df.index, df['min'], c='r')\n",
    "plt.scatter(df.index, df['max'], c='g')\n",
    "plt.plot(df.index, df['data'])\n",
    "plt.show()"
   ]
  },
  {
   "cell_type": "code",
   "execution_count": 156,
   "id": "1da36405",
   "metadata": {},
   "outputs": [
    {
     "name": "stdout",
     "output_type": "stream",
     "text": [
      "[13284.505, -1]\n",
      "[11875.358, -1]\n",
      "[11418.292, -1]\n",
      "[10873.674, -1]\n",
      "[10922.446, -1]\n",
      "[10790.372, -1]\n",
      "[[14287.666, 14361.965], [13284.505, 14508.56], [11875.358, 12358.642], [11418.292, 13170.338], [10873.674, 11206.743], [10922.446, 11641.56], [10790.372, 12258.885]]\n"
     ]
    }
   ],
   "source": [
    "#จับคู่แบบที่เอาทุกคู่ที่กว้างที่สุด คือ จุดต่ำสุดที่ n ถึงจุดสูงสุด m ที่มากที่สุดก่อนจะถึงจุดต่ำสุดถัดไป\n",
    "A_Duo = []\n",
    "Duo = [-1 , -1]\n",
    "\n",
    "for i in range(len(df)) :\n",
    "    if df['max'][i] > 0  and Duo == [-1 , -1]:\n",
    "        df['max'][i] = 0\n",
    "    if df['min'][i] > 0 :\n",
    "        if Duo[0] == -1:\n",
    "            Duo[0] = df['min'][i]\n",
    "        elif Duo[0] > 0 and Duo[1] > 0:\n",
    "            A_Duo.append(Duo)\n",
    "            Duo = [ df['min'][i] , -1]\n",
    "            print(Duo)\n",
    "        else:\n",
    "            if Duo[0] > df['min'][i]:\n",
    "                Duo[0] = df['min'][i]\n",
    "    if df['max'][i] > 0 :\n",
    "        if Duo[1] == -1:\n",
    "            Duo[1] = df['max'][i]\n",
    "        else:\n",
    "            if Duo[1] < df['max'][i]:\n",
    "                Duo[1] = df['max'][i]\n",
    "    if i == len(df)-1 :\n",
    "        if Duo[0] > 0 and Duo[1] > 0:\n",
    "            A_Duo.append(Duo)\n",
    "        \n",
    "        #print(df['max'][i])\n",
    "    #if Duo[0] > 0 and Duo[1] > 0:\n",
    "     #   A_Duo.append(Duo)\n",
    "      #  Duo = [-1 , -1]\n",
    "\n",
    "#print(Duo)\n",
    "print(A_Duo)"
   ]
  },
  {
   "cell_type": "code",
   "execution_count": 158,
   "id": "c8bf7871",
   "metadata": {},
   "outputs": [
    {
     "name": "stdout",
     "output_type": "stream",
     "text": [
      "[[13284.505, 14508.56], [11418.292, 13170.338], [10873.674, 11641.56], [10790.372, 12258.885]]\n"
     ]
    }
   ],
   "source": [
    "#จับทุกคู่ที่จับคู่แบบที่เอาทุกคู่ที่กว้างที่สุด คือ จุดต่ำสุดที่ n ถึงจุดสูงสุด m \n",
    "#ที่มากที่สุดก่อนจะถึงจุดต่ำสุดถัดไป โดยมีเงื่อนไขคือคู่ระหว่าง n m ต้องมีค่าต่งกัน มากกว่า 5%\n",
    "A_Duo = []\n",
    "Duo = [-1,-1]\n",
    "Num_of_G = [-1,-1]\n",
    "#A_Num_of_G = []\n",
    "per = 5\n",
    "for i in range(len(df)) :\n",
    "    if df['max'][i] > 0  and Duo == [-1 , -1]:\n",
    "        df['max'][i] = 0\n",
    "    if df['min'][i] > 0 :\n",
    "        if Duo[0] == -1:\n",
    "            Duo[0] = df['min'][i]\n",
    "            \n",
    "            #Num_of_G[0] = i\n",
    "        elif Duo[0] > 0 and Duo[1] > 0:\n",
    "            A_Duo.append(Duo)\n",
    "            #A_Num_of_G.append(Num_of_G)\n",
    "            Duo = [ df['min'][i] , -1]\n",
    "            #print(Duo)\n",
    "            #print(Num_of_G)\n",
    "        else:\n",
    "            if Duo[0] > df['min'][i]:\n",
    "                Duo[0] = df['min'][i]\n",
    "             #   Num_of_G[0] = i\n",
    "                \n",
    "    if df['max'][i] > 0 :\n",
    "        if Duo[1] == -1:\n",
    "            if Duo[0]*((100+per)/100) <= df['max'][i]:\n",
    "                Duo[1] = df['max'][i]\n",
    "              #  Num_of_G[1] = i\n",
    "        else:\n",
    "            if Duo[1] < df['max'][i]:\n",
    "                Duo[1] = df['max'][i]\n",
    "               # Num_of_G[1] = i\n",
    "    if i == len(df)-1 :\n",
    "        if Duo[0] > 0 and Duo[1] > 0:\n",
    "            A_Duo.append(Duo)\n",
    "      #      A_Num_of_G.append(Num_of_G)\n",
    "        \n",
    "        #print(df['max'][i])\n",
    "    #if Duo[0] > 0 and Duo[1] > 0:\n",
    "     #   A_Duo.append(Duo)\n",
    "      #  Duo = [-1 , -1]\n",
    "\n",
    "\n",
    "#print(Duo)\n",
    "print(A_Duo)\n",
    "#print(A_Num_of_G)\n"
   ]
  },
  {
   "cell_type": "code",
   "execution_count": 159,
   "id": "985e1b42",
   "metadata": {},
   "outputs": [],
   "source": [
    "List_df = df['data'].values.tolist()"
   ]
  },
  {
   "cell_type": "code",
   "execution_count": 160,
   "id": "c5597c1a",
   "metadata": {},
   "outputs": [
    {
     "data": {
      "text/plain": [
       "[13947.611, 12521.487, 12007.059, 12015.027, 11386.6455, 11326.11]"
      ]
     },
     "execution_count": 160,
     "metadata": {},
     "output_type": "execute_result"
    }
   ],
   "source": [
    "List_A_Duo_0"
   ]
  },
  {
   "cell_type": "code",
   "execution_count": 196,
   "id": "6de9bc87",
   "metadata": {},
   "outputs": [
    {
     "name": "stdout",
     "output_type": "stream",
     "text": [
      "[232]\n",
      "[42]\n"
     ]
    }
   ],
   "source": [
    "List_A_Duo_0 = []\n",
    "List_A_Duo_1 = []\n",
    "List_day_buy = []\n",
    "List_day_sell = []\n",
    "for i in A_Duo:\n",
    "    List_A_Duo_0.append(i[0])\n",
    "    List_A_Duo_1.append(i[1])\n",
    "for i in range (len(List_df)):\n",
    "    for j in List_A_Duo_0:\n",
    "        if List_df[i] == j:\n",
    "            List_day_buy.append(i)\n",
    "print(List_day_buy)\n",
    "\n",
    "for i in range (len(List_df)):\n",
    "    for j in List_A_Duo_1:\n",
    "        if List_df[i] == j:\n",
    "            List_day_sell.append(i)\n",
    "print(List_day_sell)\n",
    "buy_target = List_A_Duo_0"
   ]
  },
  {
   "cell_type": "code",
   "execution_count": 162,
   "id": "5f7da46d",
   "metadata": {},
   "outputs": [
    {
     "data": {
      "text/plain": [
       "[3903, 3971, 4052, 4107]"
      ]
     },
     "execution_count": 162,
     "metadata": {},
     "output_type": "execute_result"
    }
   ],
   "source": [
    "List_All_day_buy = []\n",
    "List_All_day_sell = []\n",
    "for i in range (len(List_day_buy)):\n",
    "    List_All_day_buy.append(List_day_buy[i]+len(df_train_3))\n",
    "for i in range (len(List_day_sell)):\n",
    "    List_All_day_sell.append(List_day_sell[i]+len(df_train_3))\n",
    "List_All_day_buy"
   ]
  },
  {
   "cell_type": "code",
   "execution_count": 195,
   "id": "138475b4",
   "metadata": {},
   "outputs": [
    {
     "ename": "TypeError",
     "evalue": "'function' object is not subscriptable",
     "output_type": "error",
     "traceback": [
      "\u001b[0;31m---------------------------------------------------------------------------\u001b[0m",
      "\u001b[0;31mTypeError\u001b[0m                                 Traceback (most recent call last)",
      "Input \u001b[0;32mIn [195]\u001b[0m, in \u001b[0;36m<cell line: 8>\u001b[0;34m()\u001b[0m\n\u001b[1;32m     11\u001b[0m C \u001b[38;5;241m=\u001b[39m \u001b[38;5;124m'\u001b[39m\u001b[38;5;124mnull\u001b[39m\u001b[38;5;124m'\u001b[39m\n\u001b[1;32m     12\u001b[0m \u001b[38;5;28;01mif\u001b[39;00m i \u001b[38;5;241m==\u001b[39m List_All_day_buy[n_List_All_day_buy]:\n\u001b[0;32m---> 13\u001b[0m     \u001b[38;5;28;01mif\u001b[39;00m \u001b[43mbuy_target\u001b[49m\u001b[43m[\u001b[49m\u001b[43mn_List_All_day_buy\u001b[49m\u001b[43m]\u001b[49m\u001b[38;5;241m*\u001b[39m\u001b[38;5;241m0.9\u001b[39m \u001b[38;5;241m<\u001b[39m\u001b[38;5;241m=\u001b[39m df_close[i] \u001b[38;5;241m<\u001b[39m\u001b[38;5;241m=\u001b[39m buy_target[n_List_All_day_buy]\u001b[38;5;241m*\u001b[39m\u001b[38;5;241m1.1\u001b[39m:\n\u001b[1;32m     14\u001b[0m         A \u001b[38;5;241m=\u001b[39m \u001b[38;5;124m\"\u001b[39m\u001b[38;5;124mAt \u001b[39m\u001b[38;5;124m\"\u001b[39m \u001b[38;5;241m+\u001b[39m \u001b[38;5;28mstr\u001b[39m(df_datatime[i]\u001b[38;5;241m+\u001b[39m\u001b[38;5;124m\"\u001b[39m\u001b[38;5;124m    BUY:   \u001b[39m\u001b[38;5;124m'\u001b[39m\u001b[38;5;124mNDX\u001b[39m\u001b[38;5;124m'\u001b[39m\u001b[38;5;124m           : \u001b[39m\u001b[38;5;124m\"\u001b[39m \u001b[38;5;241m+\u001b[39m\u001b[38;5;28mstr\u001b[39m(df_close[i]) )\n\u001b[1;32m     15\u001b[0m         stock_price_buy \u001b[38;5;241m=\u001b[39m df_close[i]\n",
      "\u001b[0;31mTypeError\u001b[0m: 'function' object is not subscriptable"
     ]
    }
   ],
   "source": [
    "#ซื้อแบบวัดเปอเซนเท่านั้น\n",
    "per_stock = []\n",
    "pair = [-1,-1]\n",
    "pair_set = []\n",
    "stock_price_buy = 0\n",
    "n_List_All_day_buy  = 0\n",
    "n_List_All_day_sell = 0\n",
    "for i in range (len(df_close)):\n",
    "    A = 'null'\n",
    "    B = 'null'\n",
    "    C = 'null'\n",
    "    if i == List_All_day_buy[n_List_All_day_buy]:\n",
    "        if buy_target[n_List_All_day_buy]*0.9 <= df_close[i] <= buy_target[n_List_All_day_buy]*1.1:\n",
    "            A = \"At \" + str(df_datatime[i]+\"    BUY:   'NDX'           : \" +str(df_close[i]) )\n",
    "            stock_price_buy = df_close[i]\n",
    "            print(A)\n",
    "            pair[0] = df_close[i]\n",
    "            n_List_All_day_buy = n_List_All_day_buy + 1\n",
    "            if n_List_All_day_buy == len(List_All_day_buy):\n",
    "                n_List_All_day_buy = 0\n",
    "        \n",
    "#ซื้อตามวัน\n",
    "    elif stock_price_buy != 0 and i == List_All_day_sell[n_List_All_day_sell]:\n",
    "        B = \"At \" + str(df_datatime[i]+\"    SELL:  'NDX'           : \" +str(df_close[i]) )\n",
    "        print(B)\n",
    "        pair[1] = df_close[i]\n",
    "        pair_set.append(pair)\n",
    "        pair = [-1,-1]\n",
    "        n_List_All_day_sell =n_List_All_day_sell + 1\n",
    "        if n_List_All_day_sell == len(List_All_day_sell):\n",
    "                n_List_All_day_sell = 0\n",
    "        stock_price_buy = 0\n",
    "        \n",
    "        \n",
    "    elif df_close[i] < stock_price_buy*0.9:\n",
    "        C = \"At \" + str(df_datatime[i]+\"    SELL:  'NDX'           : \" +str(df_close[i]) )\n",
    "        print(C)\n",
    "        pair[1] = df_close[i]\n",
    "        pair_set.append(pair)\n",
    "        pair = [-1,-1]\n",
    "        stock_price_buy = 0\n",
    "len(per_stock)\n",
    "print(pair_set)\n",
    "\n",
    "\n",
    "    "
   ]
  },
  {
   "cell_type": "code",
   "execution_count": 187,
   "id": "03a6efd2",
   "metadata": {},
   "outputs": [
    {
     "name": "stdout",
     "output_type": "stream",
     "text": [
      "[]\n",
      "0\n"
     ]
    }
   ],
   "source": [
    "pair_profit = []\n",
    "All_profit = 0\n",
    "\n",
    "for i in range (len(pair_set)):\n",
    "    pair_profit.append(pair_set[i][1] - pair_set[i][0])\n",
    "print(pair_profit)\n",
    "\n",
    "for i in pair_profit:\n",
    "    All_profit = All_profit+i\n",
    "print(All_profit)\n",
    "    "
   ]
  },
  {
   "cell_type": "code",
   "execution_count": 188,
   "id": "fc5e6db2",
   "metadata": {},
   "outputs": [
    {
     "name": "stdout",
     "output_type": "stream",
     "text": [
      "[]\n",
      "0.0 %\n"
     ]
    }
   ],
   "source": [
    "per_pair_profit = []\n",
    "All_per_profit = 0\n",
    "\n",
    "for i in range (len(pair_set)):\n",
    "    per_pair_profit.append((((pair_set[i][1] - pair_set[i][0])/pair_set[i][0])*100))\n",
    "print(per_pair_profit)\n",
    "\n",
    "for i in per_pair_profit:\n",
    "    All_per_profit = All_per_profit+i\n",
    "print(str(All_per_profit-(All_per_profit%0.01))+\" %\")"
   ]
  },
  {
   "cell_type": "code",
   "execution_count": 190,
   "id": "5f4a7dc0",
   "metadata": {},
   "outputs": [
    {
     "ename": "IndentationError",
     "evalue": "unindent does not match any outer indentation level (<tokenize>, line 5)",
     "output_type": "error",
     "traceback": [
      "\u001b[0;36m  File \u001b[0;32m<tokenize>:5\u001b[0;36m\u001b[0m\n\u001b[0;31m    elif stock_price_buy != 0 and buy_target(List_All_day_sell[n_List_All_day_sell],df_close)*0.9 <= df_close[List_All_day_sell[n_List_All_day_sell]] <= buy_target(List_All_day_sell[n_List_All_day_sell],df_close)*1.1:\u001b[0m\n\u001b[0m    ^\u001b[0m\n\u001b[0;31mIndentationError\u001b[0m\u001b[0;31m:\u001b[0m unindent does not match any outer indentation level\n"
     ]
    }
   ],
   "source": [
    "if df_close[i] < stock_price_buy*0.9:\n",
    "        B = \"At \" + str(df_datatime[i])+\"    SELL: 'NDX'           : \" +str(df_close[i]) \n",
    "        print(B)\n",
    "        stock_price_buy = 0\n",
    "    elif stock_price_buy != 0 and buy_target(List_All_day_sell[n_List_All_day_sell],df_close)*0.9 <= df_close[List_All_day_sell[n_List_All_day_sell]] <= buy_target(List_All_day_sell[n_List_All_day_sell],df_close)*1.1:\n",
    "        C = \"At \" + str(df_datatime[List_All_day_sell[n_List_All_day_sell]]+\"    SELL: 'NDX'           : \" +str(df_close[List_All_day_sell[n_List_All_day_sell]]) )\n",
    "        print(C)\n",
    "        stock_price_buy = 0\n",
    "        n_List_All_day_sell = n_List_All_day_sell + 1 \n",
    "    #if A != 'null' and C != 'null':\n",
    "    #    per[0] = df_close[List_All_day_buy[i]]\n",
    "    #    per[1] = df_close[List_All_day_sell[i]]\n",
    "    #    per_stock.append(per)\n",
    "    #    print(A)\n",
    "    #    print(B)"
   ]
  },
  {
   "cell_type": "code",
   "execution_count": 191,
   "id": "6ceef7ef",
   "metadata": {},
   "outputs": [
    {
     "name": "stdout",
     "output_type": "stream",
     "text": [
      "[]\n",
      "0\n"
     ]
    }
   ],
   "source": [
    "pair_profit = []\n",
    "All_profit = 0\n",
    "for i in range(len(per_stock)):\n",
    "    pair_profit.append(per_stock[i][1]-per_stock[i][0])\n",
    "print(pair_profit)\n",
    "\n",
    "for i in pair_profit:\n",
    "    All_profit = All_profit + i\n",
    "print(All_profit)\n",
    "    "
   ]
  },
  {
   "cell_type": "code",
   "execution_count": 192,
   "id": "f675f840",
   "metadata": {},
   "outputs": [
    {
     "name": "stdout",
     "output_type": "stream",
     "text": [
      "At 2020-03-26 20:30:00    BUY:  'NDX'           : 7897.13\n",
      "At 2020-04-16 20:30:00    SELL: 'NDX'           : 8757.83\n",
      "At 2020-07-02 20:30:00    BUY:  'NDX'           : 10341.89\n",
      "At 2020-08-28 20:30:00    SELL: 'NDX'           : 11995.85\n",
      "At 2020-10-27 20:30:00    BUY:  'NDX'           : 11598.9453\n",
      "At 2020-12-14 21:30:00    SELL: 'NDX'           : 12462.2098\n",
      "At 2021-01-15 21:30:00    BUY:  'NDX'           : 12803.9325\n",
      "At 2021-02-22 21:30:00    SELL: 'NDX'           : 13223.7395\n"
     ]
    },
    {
     "data": {
      "text/plain": [
       "4"
      ]
     },
     "execution_count": 192,
     "metadata": {},
     "output_type": "execute_result"
    }
   ],
   "source": [
    "per_stock = []\n",
    "for i in range (len(List_All_day_buy)):\n",
    "    A = 'null'\n",
    "    B = 'null'\n",
    "    per = [-1,-1]\n",
    "    if buy_target(List_All_day_buy[i],df_close)*0.9 <= df_close[List_All_day_buy[i]] <= buy_target(List_All_day_buy[i],df_close)*1.1:\n",
    "        A = \"At \" + str(df_datatime[List_All_day_buy[i]]+\"    BUY:  'NDX'           : \" +str(df_close[List_All_day_buy[i]]) )\n",
    "    if buy_target(List_All_day_sell[i],df_close)*0.9 <= df_close[List_All_day_sell[i]] <= buy_target(List_All_day_sell[i],df_close)*1.1:\n",
    "        B = \"At \" + str(df_datatime[List_All_day_sell[i]]+\"    SELL: 'NDX'           : \" +str(df_close[List_All_day_sell[i]]) )\n",
    "    if A != 'null' and B != 'null':\n",
    "        per[0] = df_close[List_All_day_buy[i]]\n",
    "        per[1] = df_close[List_All_day_sell[i]]\n",
    "        per_stock.append(per)\n",
    "        print(A)\n",
    "        print(B)\n",
    "len(per_stock)"
   ]
  },
  {
   "cell_type": "code",
   "execution_count": 194,
   "id": "694c4bab",
   "metadata": {},
   "outputs": [
    {
     "name": "stdout",
     "output_type": "stream",
     "text": [
      "[860.6999999999998, 1653.960000000001, 863.2645000000011, 419.8069999999989]\n",
      "3797.731500000001\n"
     ]
    }
   ],
   "source": [
    "pair_profit = []\n",
    "All_profit = 0\n",
    "for i in range(len(per_stock)):\n",
    "    pair_profit.append(per_stock[i][1]-per_stock[i][0])\n",
    "print(pair_profit)\n",
    "\n",
    "for i in pair_profit:\n",
    "    All_profit = All_profit + i\n",
    "print(All_profit)\n",
    "    \n",
    "    "
   ]
  },
  {
   "cell_type": "code",
   "execution_count": 171,
   "id": "935c2de0",
   "metadata": {},
   "outputs": [
    {
     "ename": "TypeError",
     "evalue": "'list' object is not callable",
     "output_type": "error",
     "traceback": [
      "\u001b[0;31m---------------------------------------------------------------------------\u001b[0m",
      "\u001b[0;31mTypeError\u001b[0m                                 Traceback (most recent call last)",
      "Input \u001b[0;32mIn [171]\u001b[0m, in \u001b[0;36m<cell line: 2>\u001b[0;34m()\u001b[0m\n\u001b[1;32m      1\u001b[0m n \u001b[38;5;241m=\u001b[39m \u001b[38;5;241m0\u001b[39m \n\u001b[0;32m----> 2\u001b[0m \u001b[38;5;28;01mif\u001b[39;00m \u001b[43mbuy_target\u001b[49m\u001b[43m(\u001b[49m\u001b[43mList_All_day_buy\u001b[49m\u001b[43m[\u001b[49m\u001b[43mn\u001b[49m\u001b[43m]\u001b[49m\u001b[43m,\u001b[49m\u001b[43mdf_close\u001b[49m\u001b[43m)\u001b[49m\u001b[38;5;241m*\u001b[39m\u001b[38;5;241m0.9\u001b[39m \u001b[38;5;241m<\u001b[39m\u001b[38;5;241m=\u001b[39m df_close[List_All_day_buy[n]] \u001b[38;5;241m<\u001b[39m\u001b[38;5;241m=\u001b[39m buy_target(List_All_day_buy[n],df_close)\u001b[38;5;241m*\u001b[39m\u001b[38;5;241m1.1\u001b[39m:\n\u001b[1;32m      3\u001b[0m     \u001b[38;5;28mprint\u001b[39m(\u001b[38;5;241m1\u001b[39m)\n",
      "\u001b[0;31mTypeError\u001b[0m: 'list' object is not callable"
     ]
    }
   ],
   "source": [
    "n = 0 \n",
    "if buy_target(List_All_day_buy[n],df_close)*0.9 <= df_close[List_All_day_buy[n]] <= buy_target(List_All_day_buy[n],df_close)*1.1:\n",
    "    print(1)"
   ]
  },
  {
   "cell_type": "code",
   "execution_count": 172,
   "id": "ac3cc5e5",
   "metadata": {},
   "outputs": [
    {
     "data": {
      "text/plain": [
       "7897.13"
      ]
     },
     "execution_count": 172,
     "metadata": {},
     "output_type": "execute_result"
    }
   ],
   "source": [
    "df_close[List_All_day_buy[0]]"
   ]
  },
  {
   "cell_type": "code",
   "execution_count": 173,
   "id": "b6968e56",
   "metadata": {},
   "outputs": [
    {
     "ename": "SyntaxError",
     "evalue": "unmatched ')' (3960660519.py, line 4)",
     "output_type": "error",
     "traceback": [
      "\u001b[0;36m  Input \u001b[0;32mIn [173]\u001b[0;36m\u001b[0m\n\u001b[0;31m    A = \"BUY : 'NDX' : \" +str(df_close[i]) + \" at \" + str(df_datatime[i]))\u001b[0m\n\u001b[0m                                                                         ^\u001b[0m\n\u001b[0;31mSyntaxError\u001b[0m\u001b[0;31m:\u001b[0m unmatched ')'\n"
     ]
    }
   ],
   "source": [
    "for i in range(len(df_close)):\n",
    "    if i == List_day:\n",
    "        if (Return_Buy_Target*0.9) <= df_close[i] <= (Return_Buy_Target*1.1):\n",
    "            A = \"BUY : 'NDX' : \" +str(df_close[i]) + \" at \" + str(df_datatime[i]))\n",
    "        "
   ]
  },
  {
   "cell_type": "code",
   "execution_count": 174,
   "id": "0e6f64c0",
   "metadata": {},
   "outputs": [
    {
     "name": "stdout",
     "output_type": "stream",
     "text": [
      "[[10790.372, 14508.56]]\n",
      "[232, 42]\n",
      "232\n"
     ]
    },
    {
     "ename": "NameError",
     "evalue": "name 'return_buy_target' is not defined",
     "output_type": "error",
     "traceback": [
      "\u001b[0;31m---------------------------------------------------------------------------\u001b[0m",
      "\u001b[0;31mNameError\u001b[0m                                 Traceback (most recent call last)",
      "Input \u001b[0;32mIn [174]\u001b[0m, in \u001b[0;36m<cell line: 43>\u001b[0;34m()\u001b[0m\n\u001b[1;32m     40\u001b[0m \u001b[38;5;28mprint\u001b[39m(Num_of_G)\n\u001b[1;32m     41\u001b[0m \u001b[38;5;28mprint\u001b[39m(day_buy)\n\u001b[0;32m---> 43\u001b[0m \u001b[43mreturn_buy_target\u001b[49m(dd,df_close)\n",
      "\u001b[0;31mNameError\u001b[0m: name 'return_buy_target' is not defined"
     ]
    }
   ],
   "source": [
    "#จากกรอบเวลทั้งหมดเอรอบใหญ่สุดอันเดียว\n",
    "A_Duo = []\n",
    "Duo = [-1 , -1]\n",
    "Num_of_G = [-1,-1]\n",
    "\n",
    "for i in range(len(df)) :\n",
    "    if df['max'][i] > 0  and Duo == [-1 , -1]:\n",
    "        df['max'][i] = 0\n",
    "    if df['min'][i] > 0 :\n",
    "        if Duo[0] == -1:\n",
    "            Duo[0] = df['min'][i]\n",
    "            Num_of_G[0] = i\n",
    "        else:\n",
    "            if Duo[0] > df['min'][i]:\n",
    "                Duo[0] = df['min'][i]\n",
    "                Num_of_G[0] = i\n",
    "    if df['max'][i] > 0 :\n",
    "        if Duo[1] == -1:\n",
    "            Duo[1] = df['max'][i]\n",
    "            Num_of_G[1] = i\n",
    "        else:\n",
    "            if Duo[1] < df['max'][i]:\n",
    "                Duo[1] = df['max'][i]\n",
    "                Num_of_G[1] = i\n",
    "    if i == len(df)-1 :\n",
    "        if Duo[0] > 0 and Duo[1] > 0:\n",
    "            A_Duo.append(Duo)\n",
    "            \n",
    "        \n",
    "        #print(df['max'][i])\n",
    "    #if Duo[0] > 0 and Duo[1] > 0:\n",
    "     #   A_Duo.append(Duo)\n",
    "      #  Duo = [-1 , -1]\n",
    "\n",
    "#print(Duo)\n",
    "Day = 756\n",
    "dd = Day - Num_of_G[0]\n",
    "day_buy = int(Num_of_G[0])\n",
    "print(A_Duo)\n",
    "print(Num_of_G)\n",
    "print(day_buy)\n",
    "\n",
    "return_buy_target(dd,df_close)"
   ]
  },
  {
   "cell_type": "code",
   "execution_count": 175,
   "id": "23179ace",
   "metadata": {},
   "outputs": [],
   "source": [
    "def return_buy_target(day,dataframe) :\n",
    "    dataframe_day = dataframe[-(int(day)):-(int(day)-1):]\n",
    "    dataframe_list = dataframe_day.values.tolist()\n",
    "    return (dataframe_list[0])"
   ]
  },
  {
   "cell_type": "code",
   "execution_count": 197,
   "id": "48f92e54",
   "metadata": {},
   "outputs": [],
   "source": [
    "#def buy_target(day,dataframe):\n",
    "#    dataframe_day = dataframe[day:day+1:]\n",
    "#    dataframe_list = dataframe_day.values.tolist()\n",
    "#    return (dataframe_list[0])"
   ]
  },
  {
   "cell_type": "code",
   "execution_count": 177,
   "id": "14732920",
   "metadata": {},
   "outputs": [
    {
     "data": {
      "text/plain": [
       "12803.9325"
      ]
     },
     "execution_count": 177,
     "metadata": {},
     "output_type": "execute_result"
    }
   ],
   "source": [
    "return_buy_target(dd,df_close)"
   ]
  },
  {
   "cell_type": "code",
   "execution_count": 178,
   "id": "d668b347",
   "metadata": {},
   "outputs": [],
   "source": [
    "def day_buy_target(day_buy,df_train_3):\n",
    "    db = day_buy\n",
    "    dataframe_Day = (len(df_train_3))+db\n",
    "    return dataframe_Day"
   ]
  },
  {
   "cell_type": "code",
   "execution_count": 179,
   "id": "257ece16",
   "metadata": {},
   "outputs": [],
   "source": [
    "Day_Buy_Target = day_buy_target(day_buy,df_train_3)\n",
    "Return_Buy_Target = return_buy_target(dd,df_close)"
   ]
  },
  {
   "cell_type": "code",
   "execution_count": 180,
   "id": "69189801",
   "metadata": {},
   "outputs": [],
   "source": [
    "Day_Buy_Target = int(Day_Buy_Target)\n",
    "Return_Buy_Target = int(Return_Buy_Target)"
   ]
  },
  {
   "cell_type": "code",
   "execution_count": 181,
   "id": "30f04183",
   "metadata": {},
   "outputs": [
    {
     "data": {
      "text/plain": [
       "15765.3582"
      ]
     },
     "execution_count": 181,
     "metadata": {},
     "output_type": "execute_result"
    }
   ],
   "source": [
    "df_close[day_buy_target(day_buy,x_train)-1]"
   ]
  },
  {
   "cell_type": "code",
   "execution_count": 182,
   "id": "7c4dbdd3",
   "metadata": {},
   "outputs": [
    {
     "data": {
      "text/plain": [
       "4631"
      ]
     },
     "execution_count": 182,
     "metadata": {},
     "output_type": "execute_result"
    }
   ],
   "source": [
    "len(df_close)"
   ]
  },
  {
   "cell_type": "code",
   "execution_count": 183,
   "id": "aaea5401",
   "metadata": {},
   "outputs": [
    {
     "name": "stdout",
     "output_type": "stream",
     "text": [
      "BUY : 'NDX' : 12803.9325 at 2021-01-15 21:30:00\n"
     ]
    }
   ],
   "source": [
    "for i in range(len(df_close)):\n",
    "    if i == Day_Buy_Target:\n",
    "        if (Return_Buy_Target*0.9) <= df_close[i] <= (Return_Buy_Target*1.1):\n",
    "            print(\"BUY : 'NDX' : \" +str(df_close[i]) + \" at \" + str(df_datatime[i]))"
   ]
  },
  {
   "cell_type": "code",
   "execution_count": 184,
   "id": "ebad7c07",
   "metadata": {},
   "outputs": [
    {
     "ename": "SyntaxError",
     "evalue": "expected ':' (2772041368.py, line 2)",
     "output_type": "error",
     "traceback": [
      "\u001b[0;36m  Input \u001b[0;32mIn [184]\u001b[0;36m\u001b[0m\n\u001b[0;31m    for i in A_Duo\u001b[0m\n\u001b[0m                  ^\u001b[0m\n\u001b[0;31mSyntaxError\u001b[0m\u001b[0;31m:\u001b[0m expected ':'\n"
     ]
    }
   ],
   "source": [
    "A_Duo_list\n",
    "for i in A_Duo"
   ]
  },
  {
   "cell_type": "code",
   "execution_count": null,
   "id": "d2256697",
   "metadata": {},
   "outputs": [],
   "source": []
  }
 ],
 "metadata": {
  "kernelspec": {
   "display_name": "Python 3 (ipykernel)",
   "language": "python",
   "name": "python3"
  },
  "language_info": {
   "codemirror_mode": {
    "name": "ipython",
    "version": 3
   },
   "file_extension": ".py",
   "mimetype": "text/x-python",
   "name": "python",
   "nbconvert_exporter": "python",
   "pygments_lexer": "ipython3",
   "version": "3.10.4"
  }
 },
 "nbformat": 4,
 "nbformat_minor": 5
}
