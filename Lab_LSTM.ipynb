{
 "cells": [
  {
   "cell_type": "code",
   "execution_count": 1,
   "id": "4346cf28",
   "metadata": {},
   "outputs": [],
   "source": [
    "import settrade_v2\n",
    "from settrade_v2 import Investor\n",
    "from settrade_v2 import market"
   ]
  },
  {
   "cell_type": "code",
   "execution_count": 2,
   "id": "c1f7de1c",
   "metadata": {},
   "outputs": [],
   "source": [
    "import math\n",
    "import numpy as np\n",
    "import pandas as pd\n",
    "from sklearn.preprocessing import MinMaxScaler \n",
    "import matplotlib.pyplot as plt\n",
    "from matplotlib import pyplot as plt\n",
    "import tensorflow as tf\n",
    "from tensorflow import keras\n",
    "from tensorflow.keras import layers\n",
    "import plotly.graph_objects as go"
   ]
  },
  {
   "cell_type": "code",
   "execution_count": 3,
   "id": "3cfa8e4d",
   "metadata": {},
   "outputs": [],
   "source": [
    "from tensorflow.keras import Sequential\n",
    "from tensorflow.keras.layers import LSTM, GRU, Dense, Dropout #"
   ]
  },
  {
   "cell_type": "code",
   "execution_count": 4,
   "id": "ff1d8578",
   "metadata": {},
   "outputs": [
    {
     "name": "stderr",
     "output_type": "stream",
     "text": [
      "error while signin\n",
      "you are using nologin method, data you access may be limited\n"
     ]
    }
   ],
   "source": [
    "from tvDatafeed import TvDatafeed, Interval\n",
    "\n",
    "username = 'Nattakidzaa@gmail.com'\n",
    "password = 'holl14583658'\n",
    "\n",
    "tv = TvDatafeed(username, password)"
   ]
  },
  {
   "cell_type": "code",
   "execution_count": 5,
   "id": "94c9d319",
   "metadata": {},
   "outputs": [
    {
     "data": {
      "text/html": [
       "<div>\n",
       "<style scoped>\n",
       "    .dataframe tbody tr th:only-of-type {\n",
       "        vertical-align: middle;\n",
       "    }\n",
       "\n",
       "    .dataframe tbody tr th {\n",
       "        vertical-align: top;\n",
       "    }\n",
       "\n",
       "    .dataframe thead th {\n",
       "        text-align: right;\n",
       "    }\n",
       "</style>\n",
       "<table border=\"1\" class=\"dataframe\">\n",
       "  <thead>\n",
       "    <tr style=\"text-align: right;\">\n",
       "      <th></th>\n",
       "      <th>datetime</th>\n",
       "      <th>symbol</th>\n",
       "      <th>open</th>\n",
       "      <th>high</th>\n",
       "      <th>low</th>\n",
       "      <th>close</th>\n",
       "      <th>volume</th>\n",
       "    </tr>\n",
       "  </thead>\n",
       "  <tbody>\n",
       "    <tr>\n",
       "      <th>0</th>\n",
       "      <td>2004-09-23 20:30:00</td>\n",
       "      <td>NASDAQ:NDX</td>\n",
       "      <td>1405.76001</td>\n",
       "      <td>1413.67993</td>\n",
       "      <td>1402.78979</td>\n",
       "      <td>1405.76978</td>\n",
       "      <td>0.0</td>\n",
       "    </tr>\n",
       "    <tr>\n",
       "      <th>1</th>\n",
       "      <td>2004-09-24 20:30:00</td>\n",
       "      <td>NASDAQ:NDX</td>\n",
       "      <td>1407.70996</td>\n",
       "      <td>1414.56006</td>\n",
       "      <td>1397.50000</td>\n",
       "      <td>1399.04980</td>\n",
       "      <td>0.0</td>\n",
       "    </tr>\n",
       "    <tr>\n",
       "      <th>2</th>\n",
       "      <td>2004-09-27 20:30:00</td>\n",
       "      <td>NASDAQ:NDX</td>\n",
       "      <td>1389.93994</td>\n",
       "      <td>1396.41992</td>\n",
       "      <td>1383.23999</td>\n",
       "      <td>1385.54980</td>\n",
       "      <td>0.0</td>\n",
       "    </tr>\n",
       "    <tr>\n",
       "      <th>3</th>\n",
       "      <td>2004-09-28 20:30:00</td>\n",
       "      <td>NASDAQ:NDX</td>\n",
       "      <td>1390.11011</td>\n",
       "      <td>1394.42993</td>\n",
       "      <td>1376.98999</td>\n",
       "      <td>1389.69995</td>\n",
       "      <td>0.0</td>\n",
       "    </tr>\n",
       "    <tr>\n",
       "      <th>4</th>\n",
       "      <td>2004-09-29 20:30:00</td>\n",
       "      <td>NASDAQ:NDX</td>\n",
       "      <td>1389.68994</td>\n",
       "      <td>1411.82007</td>\n",
       "      <td>1389.61987</td>\n",
       "      <td>1410.85986</td>\n",
       "      <td>0.0</td>\n",
       "    </tr>\n",
       "    <tr>\n",
       "      <th>...</th>\n",
       "      <td>...</td>\n",
       "      <td>...</td>\n",
       "      <td>...</td>\n",
       "      <td>...</td>\n",
       "      <td>...</td>\n",
       "      <td>...</td>\n",
       "      <td>...</td>\n",
       "    </tr>\n",
       "    <tr>\n",
       "      <th>4626</th>\n",
       "      <td>2023-02-08 21:30:00</td>\n",
       "      <td>NASDAQ:NDX</td>\n",
       "      <td>12680.02860</td>\n",
       "      <td>12709.45230</td>\n",
       "      <td>12471.11500</td>\n",
       "      <td>12495.37710</td>\n",
       "      <td>0.0</td>\n",
       "    </tr>\n",
       "    <tr>\n",
       "      <th>4627</th>\n",
       "      <td>2023-02-09 21:30:00</td>\n",
       "      <td>NASDAQ:NDX</td>\n",
       "      <td>12677.54300</td>\n",
       "      <td>12679.54260</td>\n",
       "      <td>12327.43720</td>\n",
       "      <td>12381.17000</td>\n",
       "      <td>0.0</td>\n",
       "    </tr>\n",
       "    <tr>\n",
       "      <th>4628</th>\n",
       "      <td>2023-02-10 21:30:00</td>\n",
       "      <td>NASDAQ:NDX</td>\n",
       "      <td>12306.59280</td>\n",
       "      <td>12375.71720</td>\n",
       "      <td>12204.21450</td>\n",
       "      <td>12304.91700</td>\n",
       "      <td>0.0</td>\n",
       "    </tr>\n",
       "    <tr>\n",
       "      <th>4629</th>\n",
       "      <td>2023-02-13 21:30:00</td>\n",
       "      <td>NASDAQ:NDX</td>\n",
       "      <td>12356.49780</td>\n",
       "      <td>12522.78030</td>\n",
       "      <td>12313.44530</td>\n",
       "      <td>12502.31320</td>\n",
       "      <td>0.0</td>\n",
       "    </tr>\n",
       "    <tr>\n",
       "      <th>4630</th>\n",
       "      <td>2023-02-14 21:30:00</td>\n",
       "      <td>NASDAQ:NDX</td>\n",
       "      <td>12413.09570</td>\n",
       "      <td>12627.39630</td>\n",
       "      <td>12356.32230</td>\n",
       "      <td>12590.88630</td>\n",
       "      <td>0.0</td>\n",
       "    </tr>\n",
       "  </tbody>\n",
       "</table>\n",
       "<p>4631 rows × 7 columns</p>\n",
       "</div>"
      ],
      "text/plain": [
       "                 datetime      symbol         open         high          low  \\\n",
       "0     2004-09-23 20:30:00  NASDAQ:NDX   1405.76001   1413.67993   1402.78979   \n",
       "1     2004-09-24 20:30:00  NASDAQ:NDX   1407.70996   1414.56006   1397.50000   \n",
       "2     2004-09-27 20:30:00  NASDAQ:NDX   1389.93994   1396.41992   1383.23999   \n",
       "3     2004-09-28 20:30:00  NASDAQ:NDX   1390.11011   1394.42993   1376.98999   \n",
       "4     2004-09-29 20:30:00  NASDAQ:NDX   1389.68994   1411.82007   1389.61987   \n",
       "...                   ...         ...          ...          ...          ...   \n",
       "4626  2023-02-08 21:30:00  NASDAQ:NDX  12680.02860  12709.45230  12471.11500   \n",
       "4627  2023-02-09 21:30:00  NASDAQ:NDX  12677.54300  12679.54260  12327.43720   \n",
       "4628  2023-02-10 21:30:00  NASDAQ:NDX  12306.59280  12375.71720  12204.21450   \n",
       "4629  2023-02-13 21:30:00  NASDAQ:NDX  12356.49780  12522.78030  12313.44530   \n",
       "4630  2023-02-14 21:30:00  NASDAQ:NDX  12413.09570  12627.39630  12356.32230   \n",
       "\n",
       "            close  volume  \n",
       "0      1405.76978     0.0  \n",
       "1      1399.04980     0.0  \n",
       "2      1385.54980     0.0  \n",
       "3      1389.69995     0.0  \n",
       "4      1410.85986     0.0  \n",
       "...           ...     ...  \n",
       "4626  12495.37710     0.0  \n",
       "4627  12381.17000     0.0  \n",
       "4628  12304.91700     0.0  \n",
       "4629  12502.31320     0.0  \n",
       "4630  12590.88630     0.0  \n",
       "\n",
       "[4631 rows x 7 columns]"
      ]
     },
     "execution_count": 5,
     "metadata": {},
     "output_type": "execute_result"
    }
   ],
   "source": [
    "stock_data = pd.read_csv('NDX_2005_2022.csv')\n",
    "stock_data.head()\n",
    "#stock_data = pd.DataFrame(stock_data)#.set_index(stock_data['Date'])\n",
    "df = stock_data\n",
    "df_stock_All = df\n",
    "Y1 = df[:-252:]\n",
    "Y3 = df[:-756:]\n",
    "Y5 = df[:-1259:]\n",
    "df\n",
    "#Y3 = df []\n",
    "#df = df[:-30:]\n",
    "#df\n",
    "#df.loc[df.index == '2018-03-29']"
   ]
  },
  {
   "cell_type": "code",
   "execution_count": 6,
   "id": "95974913",
   "metadata": {},
   "outputs": [
    {
     "data": {
      "text/plain": [
       "datetime    0\n",
       "symbol      0\n",
       "open        0\n",
       "high        0\n",
       "low         0\n",
       "close       0\n",
       "volume      0\n",
       "dtype: int64"
      ]
     },
     "execution_count": 6,
     "metadata": {},
     "output_type": "execute_result"
    }
   ],
   "source": [
    "df.isnull().sum()"
   ]
  },
  {
   "cell_type": "code",
   "execution_count": 7,
   "id": "6afed4fb",
   "metadata": {},
   "outputs": [
    {
     "data": {
      "text/plain": [
       "Text(0, 0.5, 'prices ($)')"
      ]
     },
     "execution_count": 7,
     "metadata": {},
     "output_type": "execute_result"
    },
    {
     "data": {
      "image/png": "[encoded data removed]",
      "text/plain": [
       "<Figure size 1500x800 with 1 Axes>"
      ]
     },
     "metadata": {},
     "output_type": "display_data"
    }
   ],
   "source": [
    "#ราคาปิด\n",
    "plt.figure(figsize=(15, 8))\n",
    "plt.title('Prices History Close')\n",
    "plt.plot(df['close'])\n",
    "plt.xlabel('date')\n",
    "plt.ylabel('prices ($)')"
   ]
  },
  {
   "cell_type": "code",
   "execution_count": 8,
   "id": "d2562523",
   "metadata": {},
   "outputs": [
    {
     "name": "stdout",
     "output_type": "stream",
     "text": [
      "Samples: (4631, 7)\n",
      "Train set: (4379, 7)\n"
     ]
    }
   ],
   "source": [
    "print('Samples:', df.shape)\n",
    "print('Train set:', df[:-252].shape)"
   ]
  },
  {
   "cell_type": "code",
   "execution_count": 9,
   "id": "2e7b8b70",
   "metadata": {},
   "outputs": [],
   "source": [
    "#Close\n",
    "close_prices = df['close']\n",
    "values = close_prices.values\n",
    "training_data_len = math.ceil(len(values)* (4279/4531))\n",
    "\n",
    "scaler = MinMaxScaler(feature_range=(0,1))\n",
    "scaled_data = scaler.fit_transform(values.reshape(-1,1))\n",
    "train_data = scaled_data[0: training_data_len, :]\n",
    "\n",
    "x_train = []\n",
    "y_train = []\n",
    "\n",
    "for i in range(252, len(train_data)):\n",
    "    x_train.append(train_data[i-252:i, 0])\n",
    "    y_train.append(train_data[i, 0])\n",
    "    \n",
    "x_train, y_train = np.array(x_train), np.array(y_train)\n",
    "x_train = np.reshape(x_train, (x_train.shape[0], x_train.shape[1], 1))"
   ]
  },
  {
   "cell_type": "code",
   "execution_count": 10,
   "id": "8ecf614f",
   "metadata": {},
   "outputs": [],
   "source": [
    "test_data = scaled_data[training_data_len-252: , : ]\n",
    "x_test = []\n",
    "#y_test = values[training_data_len:]\n",
    "y_test = scaled_data[training_data_len:]\n",
    "\n",
    "for i in range(252, len(test_data)):\n",
    "    x_test.append(test_data[i-252:i, 0])\n",
    "\n",
    "x_test = np.array(x_test)\n",
    "x_test = np.reshape(x_test, (x_test.shape[0], x_test.shape[1], 1))"
   ]
  },
  {
   "cell_type": "code",
   "execution_count": 21,
   "id": "5513ce0a",
   "metadata": {},
   "outputs": [],
   "source": [
    "# GRU\n",
    "model = Sequential()\n",
    "model.add(layers.LSTM(250,activation='linear', return_sequences=True, input_shape=(x_train.shape[1], 1)))\n",
    "model.add(Dropout(0.2))\n",
    "model.add(layers.LSTM(200,activation='linear', return_sequences=True, input_shape=(x_train.shape[1], 1)))\n",
    "model.add(Dropout(0.2))\n",
    "model.add(layers.LSTM(150, activation='linear' ,return_sequences=True, input_shape=(x_train.shape[1], 1)))\n",
    "model.add(Dropout(0.2))\n",
    "model.add(layers.LSTM(100, activation='linear' ,return_sequences=True, input_shape=(x_train.shape[1], 1)))\n",
    "model.add(Dropout(0.2))\n",
    "model.add(layers.LSTM(50, activation='linear',return_sequences=False))\n",
    "model.add(Dropout(0.2))\n",
    "model.add(layers.Dense(1))\n",
    "\n",
    "model.compile(optimizer='adam', loss='mean_squared_error')\n"
   ]
  },
  {
   "cell_type": "code",
   "execution_count": 22,
   "id": "2430dcdb",
   "metadata": {},
   "outputs": [
    {
     "name": "stdout",
     "output_type": "stream",
     "text": [
      "Epoch 1/11\n",
      "63/63 [==============================] - 81s 1s/step - loss: 0.0148 - val_loss: 0.0030\n",
      "Epoch 2/11\n",
      "63/63 [==============================] - 79s 1s/step - loss: 0.0014 - val_loss: 0.0025\n",
      "Epoch 3/11\n",
      "63/63 [==============================] - 79s 1s/step - loss: 0.0012 - val_loss: 0.0058\n",
      "Epoch 4/11\n",
      "63/63 [==============================] - 83s 1s/step - loss: 0.0011 - val_loss: 0.0047\n",
      "Epoch 5/11\n",
      "63/63 [==============================] - 80s 1s/step - loss: 0.0010 - val_loss: 0.0027\n",
      "Epoch 6/11\n",
      "63/63 [==============================] - 79s 1s/step - loss: 0.0012 - val_loss: 0.0021\n",
      "Epoch 7/11\n",
      "63/63 [==============================] - 85s 1s/step - loss: 0.0010 - val_loss: 0.0046\n",
      "Epoch 8/11\n",
      "63/63 [==============================] - 82s 1s/step - loss: 0.0012 - val_loss: 0.0019\n",
      "Epoch 9/11\n",
      "63/63 [==============================] - 81s 1s/step - loss: 0.0010 - val_loss: 0.0048\n",
      "Epoch 10/11\n",
      "63/63 [==============================] - 78s 1s/step - loss: 9.5551e-04 - val_loss: 0.0022\n",
      "Epoch 11/11\n",
      "63/63 [==============================] - 79s 1s/step - loss: 0.0011 - val_loss: 0.0041\n"
     ]
    }
   ],
   "source": [
    "history = model.fit(x_train, y_train, batch_size= 64, epochs=11,validation_data=(x_test,y_test), verbose=1) #callbacks=callbacks_list)"
   ]
  },
  {
   "cell_type": "code",
   "execution_count": 23,
   "id": "7b17834e",
   "metadata": {},
   "outputs": [
    {
     "name": "stdout",
     "output_type": "stream",
     "text": [
      "0.00023591720673721284 0.004092320334166288\n"
     ]
    }
   ],
   "source": [
    "train_mse = model.evaluate(x_train, y_train, verbose=0)\n",
    "test_mse = model.evaluate(x_test, y_test, verbose=0)\n",
    "print(train_mse, test_mse)"
   ]
  },
  {
   "cell_type": "code",
   "execution_count": null,
   "id": "7bdc32fc",
   "metadata": {},
   "outputs": [],
   "source": [
    "data = df.filter(['close'])\n",
    "train = data[:training_data_len]\n",
    "validation = data[training_data_len:]\n",
    "validation['Predictions'] = predictions\n",
    "plt.figure(figsize=(32,16))\n",
    "plt.title('Model')\n",
    "plt.xlabel('date')\n",
    "plt.ylabel('close Price USD ($)')\n",
    "#plt.plot(train)\n",
    "plt.plot(validation[['close', 'Predictions']])\n",
    "plt.legend(['Train', 'Val', 'Predictions'], loc='lower right')\n",
    "plt.savefig('Time_Series_Crypto.png')\n",
    "plt.show()"
   ]
  },
  {
   "cell_type": "code",
   "execution_count": null,
   "id": "8bd651d4",
   "metadata": {},
   "outputs": [],
   "source": []
  },
  {
   "cell_type": "code",
   "execution_count": null,
   "id": "6f440767",
   "metadata": {},
   "outputs": [],
   "source": []
  },
  {
   "cell_type": "code",
   "execution_count": null,
   "id": "bf35e33b",
   "metadata": {},
   "outputs": [],
   "source": []
  },
  {
   "cell_type": "code",
   "execution_count": null,
   "id": "54bb9480",
   "metadata": {},
   "outputs": [],
   "source": []
  },
  {
   "cell_type": "code",
   "execution_count": null,
   "id": "258a735e",
   "metadata": {},
   "outputs": [],
   "source": []
  },
  {
   "cell_type": "code",
   "execution_count": null,
   "id": "e40c5b85",
   "metadata": {},
   "outputs": [],
   "source": []
  },
  {
   "cell_type": "code",
   "execution_count": null,
   "id": "c819379b",
   "metadata": {},
   "outputs": [],
   "source": []
  },
  {
   "cell_type": "code",
   "execution_count": null,
   "id": "c9f69c38",
   "metadata": {},
   "outputs": [],
   "source": []
  },
  {
   "cell_type": "code",
   "execution_count": null,
   "id": "5b1c0c4e",
   "metadata": {},
   "outputs": [],
   "source": []
  },
  {
   "cell_type": "code",
   "execution_count": null,
   "id": "c7f0acaa",
   "metadata": {},
   "outputs": [],
   "source": []
  },
  {
   "cell_type": "code",
   "execution_count": null,
   "id": "a17230af",
   "metadata": {},
   "outputs": [],
   "source": []
  },
  {
   "cell_type": "code",
   "execution_count": null,
   "id": "a4095ba3",
   "metadata": {},
   "outputs": [],
   "source": []
  },
  {
   "cell_type": "code",
   "execution_count": null,
   "id": "f0b854bf",
   "metadata": {},
   "outputs": [],
   "source": []
  },
  {
   "cell_type": "code",
   "execution_count": null,
   "id": "6ed23f82",
   "metadata": {},
   "outputs": [],
   "source": []
  },
  {
   "cell_type": "code",
   "execution_count": null,
   "id": "db91b317",
   "metadata": {},
   "outputs": [],
   "source": []
  },
  {
   "cell_type": "code",
   "execution_count": null,
   "id": "4fb2ad1b",
   "metadata": {},
   "outputs": [],
   "source": []
  },
  {
   "cell_type": "code",
   "execution_count": null,
   "id": "5ca308e6",
   "metadata": {},
   "outputs": [],
   "source": []
  },
  {
   "cell_type": "code",
   "execution_count": null,
   "id": "4299f9ec",
   "metadata": {},
   "outputs": [],
   "source": []
  },
  {
   "cell_type": "code",
   "execution_count": null,
   "id": "9a753ef5",
   "metadata": {},
   "outputs": [],
   "source": []
  },
  {
   "cell_type": "code",
   "execution_count": null,
   "id": "43bce4eb",
   "metadata": {},
   "outputs": [],
   "source": []
  },
  {
   "cell_type": "code",
   "execution_count": null,
   "id": "f75b96ed",
   "metadata": {},
   "outputs": [],
   "source": []
  },
  {
   "cell_type": "code",
   "execution_count": null,
   "id": "7edef363",
   "metadata": {},
   "outputs": [],
   "source": [
    "from sklearn.preprocessing import MinMaxScaler\n",
    "\n",
    "data = df.values.reshape(-1, 1)\n",
    "sc = MinMaxScaler()\n",
    "data_sc = sc.fit_transform(data)\n",
    "data_sc[:5]"
   ]
  },
  {
   "cell_type": "code",
   "execution_count": null,
   "id": "b8ef2479",
   "metadata": {},
   "outputs": [],
   "source": [
    "def convertToMatrix(data, step=1):\n",
    "    X, Y = [], []\n",
    "    for i in range(len(data)-step):\n",
    "        d = i + step  \n",
    "        X.append(data[i:d,])\n",
    "        Y.append(data[d,])\n",
    "    return np.array(X), np.array(Y)"
   ]
  },
  {
   "cell_type": "code",
   "execution_count": null,
   "id": "2101c70d",
   "metadata": {},
   "outputs": [],
   "source": [
    "n_train = 4279\n",
    "\n",
    "train, test = data_sc[0:n_train], data_sc[n_train:]\n",
    "train.shape, test.shape"
   ]
  },
  {
   "cell_type": "code",
   "execution_count": null,
   "id": "84ecc8eb",
   "metadata": {},
   "outputs": [],
   "source": [
    "step = 60 \n",
    "\n",
    "X_train, y_train = convertToMatrix(train, step)  \n",
    "X_test, y_test = convertToMatrix(test, step)\n",
    "\n",
    "print('X Train, Test (after conversion):', X_train.shape, X_test.shape)\n",
    "print('y Train, Test (after conversion):', y_train.shape, y_test.shape)"
   ]
  },
  {
   "cell_type": "code",
   "execution_count": null,
   "id": "761afe46",
   "metadata": {},
   "outputs": [],
   "source": [
    "#Model\n",
    "\n",
    "model = Sequential()\n",
    "\n",
    "#model.add(LSTM(units=50, return_sequences=True, input_shape=(step, 1), activation='relu'))\n",
    "#model.add(Dropout(0.2))\n",
    "#model.add(LSTM(units=40, activation='relu'))\n",
    "#model.add(Dropout(0.2))\n",
    "#model.add(Dense(units=1))  # output\n",
    "\n",
    "# GRU\n",
    "model.add(GRU(units=50, return_sequences=True, input_shape=(step, 1), activation='relu'))\n",
    "model.add(Dropout(0.2))\n",
    "model.add(GRU(units=40, activation='relu'))\n",
    "model.add(Dropout(0.2))\n",
    "model.add(Dense(units=1))\n",
    "\n",
    "model.compile(loss='mean_squared_error', optimizer='adam')\n",
    "model.summary()"
   ]
  },
  {
   "cell_type": "code",
   "execution_count": null,
   "id": "8202fa48",
   "metadata": {},
   "outputs": [],
   "source": [
    "history = model.fit(X_train, y_train,epochs=10, batch_size=16, verbose=1)"
   ]
  },
  {
   "cell_type": "code",
   "execution_count": null,
   "id": "abc6d3bc",
   "metadata": {},
   "outputs": [],
   "source": [
    "plt.plot(history.history['loss'], label='Train loss')\n",
    "plt.legend()\n",
    "plt.show()"
   ]
  },
  {
   "cell_type": "code",
   "execution_count": null,
   "id": "1be2c0af",
   "metadata": {},
   "outputs": [],
   "source": [
    "testPredict = model.predict(X_test) \n",
    "\n",
    "testPredict.shape"
   ]
  },
  {
   "cell_type": "code",
   "execution_count": null,
   "id": "6d2d3184",
   "metadata": {},
   "outputs": [],
   "source": [
    "y_test.shape"
   ]
  },
  {
   "cell_type": "code",
   "execution_count": null,
   "id": "b8d97c51",
   "metadata": {},
   "outputs": [],
   "source": [
    "print(y_train.shape)\n",
    "sc.inverse_transform(y_train.reshape(-1,1))[:5]"
   ]
  },
  {
   "cell_type": "code",
   "execution_count": null,
   "id": "b9ecd8d9",
   "metadata": {},
   "outputs": [],
   "source": [
    "from sklearn.metrics import mean_squared_error, r2_score\n",
    "\n",
    "testPredict_inv = sc.inverse_transform(testPredict)\n",
    "\n",
    "y_test_inv = sc.inverse_transform(y_test)\n",
    "\n",
    "r2_test = r2_score(y_test_inv, testPredict_inv) #\n",
    "\n",
    "rmse_test = np.sqrt(mean_squared_error(y_test_inv, testPredict_inv))\n",
    "\n",
    "print('R2 Test: {:.3f}'. format(r2_test))\n",
    "print('RMSE Test: {:.3f}'. format(rmse_test))"
   ]
  },
  {
   "cell_type": "code",
   "execution_count": null,
   "id": "53f97d5a",
   "metadata": {},
   "outputs": [],
   "source": [
    "plt.figure(figsize=(32,16))\n",
    "\n",
    "plt.plot(y_test_inv, lw=1.3, label='Dataset (Test)')\n",
    "\n",
    "plt.plot(testPredict_inv, 'r', lw=2.4, label='Prediction')\n",
    "plt.legend()\n",
    "plt.show()"
   ]
  },
  {
   "cell_type": "code",
   "execution_count": null,
   "id": "a309866f",
   "metadata": {},
   "outputs": [],
   "source": [
    "data = df.filter(['close'])\n",
    "train = data[:-252]\n",
    "validation = data[-252:]\n",
    "validation['Predictions'] = testPredict_inv\n",
    "plt.figure(figsize=(32,16))\n",
    "plt.title('Model')\n",
    "plt.xlabel('date')\n",
    "plt.ylabel('close Price USD ($)')\n",
    "#plt.plot(train)\n",
    "plt.plot(validation[['close', 'testPredict_inv']])\n",
    "plt.legend(['Train', 'Val', 'Predictions'], loc='lower right')\n",
    "plt.savefig('Time_Series_Crypto.png')\n",
    "plt.show()"
   ]
  },
  {
   "cell_type": "code",
   "execution_count": null,
   "id": "36e06255",
   "metadata": {},
   "outputs": [],
   "source": []
  }
 ],
 "metadata": {
  "kernelspec": {
   "display_name": "Python 3 (ipykernel)",
   "language": "python",
   "name": "python3"
  },
  "language_info": {
   "codemirror_mode": {
    "name": "ipython",
    "version": 3
   },
   "file_extension": ".py",
   "mimetype": "text/x-python",
   "name": "python",
   "nbconvert_exporter": "python",
   "pygments_lexer": "ipython3",
   "version": "3.10.4"
  }
 },
 "nbformat": 4,
 "nbformat_minor": 5
}
